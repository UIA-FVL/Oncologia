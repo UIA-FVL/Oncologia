{
 "cells": [
  {
   "cell_type": "markdown",
   "metadata": {
    "collapsed": false
   },
   "source": [
    "# Preparación de los datos"
   ]
  },
  {
   "cell_type": "markdown",
   "metadata": {
    "collapsed": false
   },
   "source": [
    "## Cargar base de datos extraida\n"
   ]
  },
  {
   "cell_type": "code",
   "execution_count": 1,
   "metadata": {
    "collapsed": false,
    "jupyter": {
     "outputs_hidden": false
    }
   },
   "outputs": [],
   "source": [
    "import pandas as pd"
   ]
  },
  {
   "cell_type": "markdown",
   "metadata": {
    "collapsed": false
   },
   "source": [
    "Vamos a cargar la base de datos completa con todas las variables ya extraidas"
   ]
  },
  {
   "cell_type": "code",
   "execution_count": 2,
   "metadata": {
    "collapsed": false,
    "jupyter": {
     "outputs_hidden": false
    }
   },
   "outputs": [
    {
     "data": {
      "text/plain": [
       "(22322, 32)"
      ]
     },
     "execution_count": 2,
     "metadata": {},
     "output_type": "execute_result"
    }
   ],
   "source": [
    "base_completa_ex =  pd.read_pickle('Outputs/df_completa_extraido_v4.p', 'gzip')\n",
    "base_completa_ex.shape"
   ]
  },
  {
   "cell_type": "markdown",
   "metadata": {
    "collapsed": false
   },
   "source": [
    "Unimos la columna con el grupo de cada topografía"
   ]
  },
  {
   "cell_type": "code",
   "execution_count": 3,
   "metadata": {
    "collapsed": false
   },
   "outputs": [],
   "source": [
    "base_completa_ex[\"Grupo\"] = pd.read_pickle('Outputs/grupo.p', 'gzip')"
   ]
  },
  {
   "cell_type": "code",
   "execution_count": 4,
   "metadata": {
    "collapsed": false,
    "jupyter": {
     "outputs_hidden": false
    }
   },
   "outputs": [
    {
     "data": {
      "text/plain": [
       "Index(['origen', 'cod', 'fecha_nacimiento', 'edad', 'val_fecha',\n",
       "       'val_operador', 'micro', 'macro', 'diagnostico', 'tipo_examen', 'Grupo',\n",
       "       'topografia', 'morfologia', 'lateralidad', 'comportamiento',\n",
       "       'procedimiento', 'solido', 'hemato', 'grado', 'lymph', 'linfocitaria',\n",
       "       'margenes', 'tamanho', 'pTNM', 'metastasis', 'examinados', 'positivos',\n",
       "       'hueso', 'cerebro', 'distantes', 'higado', 'pulmon', 'otras'],\n",
       "      dtype='object')"
      ]
     },
     "execution_count": 4,
     "metadata": {},
     "output_type": "execute_result"
    }
   ],
   "source": [
    "base_completa_ex = base_completa_ex.reset_index()\n",
    "base_completa_ex.columns\n"
   ]
  },
  {
   "cell_type": "markdown",
   "metadata": {
    "collapsed": false
   },
   "source": [
    "Filtramos unicamente los tumores sólidos de los grupos deseados"
   ]
  },
  {
   "cell_type": "code",
   "execution_count": 5,
   "metadata": {
    "collapsed": false
   },
   "outputs": [
    {
     "data": {
      "text/plain": [
       "(13198, 33)"
      ]
     },
     "execution_count": 5,
     "metadata": {},
     "output_type": "execute_result"
    }
   ],
   "source": [
    "base_ex = base_completa_ex.query(' solido != \"0: No es un tumor sólido\" and Grupo != \"Otro\"') \n",
    "base_ex.shape"
   ]
  },
  {
   "cell_type": "code",
   "execution_count": 6,
   "metadata": {
    "collapsed": false
   },
   "outputs": [
    {
     "data": {
      "text/plain": [
       "Mama                          3385\n",
       "Tracto Gastrointestinal       2717\n",
       "Cabeza y cuello               2101\n",
       "Melanoma y tejidos blandos    1688\n",
       "Genitourinario                1500\n",
       "Pulmón y bronquios             978\n",
       "Ginecológico                   829\n",
       "Name: Grupo, dtype: int64"
      ]
     },
     "execution_count": 6,
     "metadata": {},
     "output_type": "execute_result"
    }
   ],
   "source": [
    "base_ex.Grupo.value_counts()"
   ]
  },
  {
   "cell_type": "markdown",
   "metadata": {
    "collapsed": false
   },
   "source": [
    "## Unir estado vital y fecha de último contacto\n",
    "\n",
    "Estado vital (0 vivo, 1 muerto) y la fecha de ultimo contacto \n",
    "que para el caso de los vivos corresponde a la fecha en la que por ultima vez se realizo seguimiento clínico a estos pacientes en la FVL,\n",
    "mientras que para los muertos corresponde a la fecha de defunción.\n"
   ]
  },
  {
   "cell_type": "code",
   "execution_count": 7,
   "metadata": {
    "collapsed": false,
    "jupyter": {
     "outputs_hidden": false
    }
   },
   "outputs": [],
   "source": [
    "info_vital = pd.read_excel('Data/info_vital-9-8-2020.xlsx', na_values='Paciente no esta en SAP')"
   ]
  },
  {
   "cell_type": "code",
   "execution_count": 8,
   "metadata": {
    "collapsed": false,
    "jupyter": {
     "outputs_hidden": false
    }
   },
   "outputs": [
    {
     "data": {
      "text/plain": [
       "Index(['cod', 'fecha_final', 'muerto'], dtype='object')"
      ]
     },
     "execution_count": 8,
     "metadata": {},
     "output_type": "execute_result"
    }
   ],
   "source": [
    "info_vital.rename(columns={'CÓDIGO ÚNICO': 'cod', \n",
    "                           'ESTADO VITAL: 1-MUERTO; 0-VIVO': 'muerto',\n",
    "                           'FECHA ULTIMO CONTACTO': 'fecha_final'\n",
    "                       },inplace = True)\n",
    "info_vital.columns"
   ]
  },
  {
   "cell_type": "code",
   "execution_count": 9,
   "metadata": {
    "collapsed": false,
    "jupyter": {
     "outputs_hidden": false
    }
   },
   "outputs": [
    {
     "data": {
      "text/plain": [
       "(9709, 3)"
      ]
     },
     "execution_count": 9,
     "metadata": {},
     "output_type": "execute_result"
    }
   ],
   "source": [
    "info_vital['fecha_final'] = pd.to_datetime(info_vital.fecha_final, errors='coerce')\n",
    "info_vital = info_vital.astype({'cod': 'string',\n",
    "                                'muerto': 'boolean',\n",
    "                               # 'fecha_final': 'datetime64'\n",
    "})\n",
    "info_vital.shape"
   ]
  },
  {
   "cell_type": "code",
   "execution_count": 10,
   "metadata": {
    "collapsed": false,
    "jupyter": {
     "outputs_hidden": false
    }
   },
   "outputs": [
    {
     "data": {
      "text/plain": [
       "(13198, 35)"
      ]
     },
     "execution_count": 10,
     "metadata": {},
     "output_type": "execute_result"
    }
   ],
   "source": [
    "base = pd.merge(base_ex, info_vital, how='inner', on='cod')\n",
    "base.shape"
   ]
  },
  {
   "cell_type": "markdown",
   "metadata": {
    "collapsed": false
   },
   "source": [
    "## Pacientes con multiples registros"
   ]
  },
  {
   "cell_type": "code",
   "execution_count": 11,
   "metadata": {
    "collapsed": false,
    "jupyter": {
     "outputs_hidden": false
    }
   },
   "outputs": [
    {
     "data": {
      "text/plain": [
       "1     7030\n",
       "2     2064\n",
       "3      474\n",
       "4      108\n",
       "5       20\n",
       "6        9\n",
       "7        2\n",
       "8        1\n",
       "10       1\n",
       "Name: cod, dtype: Int64"
      ]
     },
     "execution_count": 11,
     "metadata": {},
     "output_type": "execute_result"
    }
   ],
   "source": [
    "s = base.cod.value_counts()\n",
    "s.value_counts()"
   ]
  },
  {
   "cell_type": "code",
   "execution_count": 12,
   "metadata": {
    "collapsed": false,
    "jupyter": {
     "outputs_hidden": false
    }
   },
   "outputs": [
    {
     "data": {
      "text/plain": [
       "cod         Grupo                  \n",
       "1001606950  Ginecológico               2\n",
       "1003095704  Pulmón y bronquios         2\n",
       "1003241503  Tracto Gastrointestinal    2\n",
       "1003274633  Ginecológico               2\n",
       "10048645    Tracto Gastrointestinal    2\n",
       "                                      ..\n",
       "NX9934      Mama                       3\n",
       "NXLF18      Genitourinario             1\n",
       "            Tracto Gastrointestinal    1\n",
       "NY9761      Mama                       2\n",
       "PAG742      Tracto Gastrointestinal    4\n",
       "Length: 3074, dtype: int64"
      ]
     },
     "execution_count": 12,
     "metadata": {},
     "output_type": "execute_result"
    }
   ],
   "source": [
    "idx = base.duplicated('cod', keep=False)\n",
    "base[idx].groupby(['cod','Grupo']).size()"
   ]
  },
  {
   "cell_type": "markdown",
   "metadata": {
    "collapsed": false
   },
   "source": [
    "Añadimos una nueva columna con la fecha del diagnostico"
   ]
  },
  {
   "cell_type": "code",
   "execution_count": 13,
   "metadata": {
    "collapsed": false,
    "jupyter": {
     "outputs_hidden": false
    }
   },
   "outputs": [
    {
     "data": {
      "text/plain": [
       "0       2014-01-07\n",
       "1       2014-01-07\n",
       "2       2014-01-07\n",
       "3       2014-01-08\n",
       "4       2014-01-07\n",
       "           ...    \n",
       "13193   2019-11-13\n",
       "13194   2019-11-08\n",
       "13195   2019-11-13\n",
       "13196   2019-11-09\n",
       "13197   2019-11-09\n",
       "Name: val_fecha_def, Length: 13198, dtype: datetime64[ns]"
      ]
     },
     "execution_count": 13,
     "metadata": {},
     "output_type": "execute_result"
    }
   ],
   "source": [
    "base[\"val_fecha_def\"] = base.groupby([\"cod\", \"Grupo\"])[\"val_fecha\"].transform(\"min\")\n",
    "base[\"val_fecha_def\"] "
   ]
  },
  {
   "cell_type": "markdown",
   "metadata": {
    "collapsed": false
   },
   "source": [
    "## Definición del tiempo de sobrevida"
   ]
  },
  {
   "cell_type": "code",
   "execution_count": 14,
   "metadata": {
    "collapsed": false,
    "jupyter": {
     "outputs_hidden": false
    }
   },
   "outputs": [],
   "source": [
    "base[\"sobrevida\"] = (base[\"fecha_final\"] - base[\"val_fecha_def\"]).astype('timedelta64[M]')"
   ]
  },
  {
   "cell_type": "code",
   "execution_count": 15,
   "metadata": {
    "collapsed": false,
    "jupyter": {
     "outputs_hidden": false
    }
   },
   "outputs": [
    {
     "data": {
      "text/plain": [
       "False    12775\n",
       "True       423\n",
       "Name: sobrevida, dtype: int64"
      ]
     },
     "execution_count": 15,
     "metadata": {},
     "output_type": "execute_result"
    }
   ],
   "source": [
    "(base[\"sobrevida\"] < 0).value_counts(dropna=False)"
   ]
  },
  {
   "cell_type": "markdown",
   "metadata": {
    "collapsed": false
   },
   "source": [
    "## Validación y depuración de los datos"
   ]
  },
  {
   "cell_type": "code",
   "execution_count": 16,
   "metadata": {
    "collapsed": false
   },
   "outputs": [
    {
     "data": {
      "text/html": [
       "<div>\n",
       "<style scoped>\n",
       "    .dataframe tbody tr th:only-of-type {\n",
       "        vertical-align: middle;\n",
       "    }\n",
       "\n",
       "    .dataframe tbody tr th {\n",
       "        vertical-align: top;\n",
       "    }\n",
       "\n",
       "    .dataframe thead th {\n",
       "        text-align: right;\n",
       "    }\n",
       "</style>\n",
       "<table border=\"1\" class=\"dataframe\">\n",
       "  <thead>\n",
       "    <tr style=\"text-align: right;\">\n",
       "      <th></th>\n",
       "      <th>origen</th>\n",
       "      <th>cod</th>\n",
       "      <th>fecha_nacimiento</th>\n",
       "      <th>edad</th>\n",
       "      <th>val_fecha</th>\n",
       "      <th>val_operador</th>\n",
       "      <th>micro</th>\n",
       "      <th>macro</th>\n",
       "      <th>diagnostico</th>\n",
       "      <th>tipo_examen</th>\n",
       "      <th>...</th>\n",
       "      <th>hueso</th>\n",
       "      <th>cerebro</th>\n",
       "      <th>distantes</th>\n",
       "      <th>higado</th>\n",
       "      <th>pulmon</th>\n",
       "      <th>otras</th>\n",
       "      <th>fecha_final</th>\n",
       "      <th>muerto</th>\n",
       "      <th>val_fecha_def</th>\n",
       "      <th>sobrevida</th>\n",
       "    </tr>\n",
       "  </thead>\n",
       "  <tbody>\n",
       "    <tr>\n",
       "      <th>0</th>\n",
       "      <td>JCB 1</td>\n",
       "      <td>6753803</td>\n",
       "      <td>NaT</td>\n",
       "      <td>80</td>\n",
       "      <td>2014-01-07</td>\n",
       "      <td>CARLOS JIMENEZ, M.D.</td>\n",
       "      <td>TUMOR PELVIS RENAL\n",
       "En los cortes histológicos...</td>\n",
       "      <td>En formalina se recibe por separado y rotulad...</td>\n",
       "      <td>A: TUMOR PELVIS RENAL: BIOPSIA\n",
       "CARCINOMA UROT...</td>\n",
       "      <td>ESPECÍMENES QUIRÚRGICOS</td>\n",
       "      <td>...</td>\n",
       "      <td>9: se desconoce</td>\n",
       "      <td>9: se desconoce</td>\n",
       "      <td>9: se desconoce</td>\n",
       "      <td>9: se desconoce</td>\n",
       "      <td>9: se desconoce</td>\n",
       "      <td>9: se desconoce</td>\n",
       "      <td>2017-12-19</td>\n",
       "      <td>True</td>\n",
       "      <td>2014-01-07</td>\n",
       "      <td>47.0</td>\n",
       "    </tr>\n",
       "    <tr>\n",
       "      <th>1</th>\n",
       "      <td>JCB 15</td>\n",
       "      <td>6753803</td>\n",
       "      <td>NaT</td>\n",
       "      <td>80</td>\n",
       "      <td>2014-01-14</td>\n",
       "      <td>CARLOS JIMENEZ, M.D.</td>\n",
       "      <td>En los cortes histológicos teñidos con HyE se...</td>\n",
       "      <td>En formol se recibe producto de nefrectomía d...</td>\n",
       "      <td></td>\n",
       "      <td>ESPECÍMENES QUIRÚRGICOS</td>\n",
       "      <td>...</td>\n",
       "      <td>9: se desconoce</td>\n",
       "      <td>9: se desconoce</td>\n",
       "      <td>9: se desconoce</td>\n",
       "      <td>9: se desconoce</td>\n",
       "      <td>9: se desconoce</td>\n",
       "      <td>9: se desconoce</td>\n",
       "      <td>2017-12-19</td>\n",
       "      <td>True</td>\n",
       "      <td>2014-01-07</td>\n",
       "      <td>47.0</td>\n",
       "    </tr>\n",
       "    <tr>\n",
       "      <th>2</th>\n",
       "      <td>ERP2014 641</td>\n",
       "      <td>6753803</td>\n",
       "      <td>1932-07-18</td>\n",
       "      <td>82</td>\n",
       "      <td>2014-12-22</td>\n",
       "      <td>ANA M ARRUNATEGUI</td>\n",
       "      <td>DESCRIPCION MICROSCOPICA  En los cortes histo...</td>\n",
       "      <td>DESCRIPCION MACROSCOPICA:  En un frasco con fo...</td>\n",
       "      <td>DIAGNOSTICO  Vejiga-lesión-biopsia CARCINOMA...</td>\n",
       "      <td>ESPECIMEN QUIRURGICO</td>\n",
       "      <td>...</td>\n",
       "      <td>9: se desconoce</td>\n",
       "      <td>9: se desconoce</td>\n",
       "      <td>9: se desconoce</td>\n",
       "      <td>9: se desconoce</td>\n",
       "      <td>9: se desconoce</td>\n",
       "      <td>9: se desconoce</td>\n",
       "      <td>2017-12-19</td>\n",
       "      <td>True</td>\n",
       "      <td>2014-01-07</td>\n",
       "      <td>47.0</td>\n",
       "    </tr>\n",
       "    <tr>\n",
       "      <th>3</th>\n",
       "      <td>JCB 2</td>\n",
       "      <td>32220025</td>\n",
       "      <td>NaT</td>\n",
       "      <td>59</td>\n",
       "      <td>2014-01-08</td>\n",
       "      <td>LUIS ALBERTO ESCOBAR, M.D.</td>\n",
       "      <td>Se reconoce lesion neoplasica maligna de orig...</td>\n",
       "      <td>En formol se reciben 4 fragmentos de tejido b...</td>\n",
       "      <td>Pulmón- Masa - Biopsia.\n",
       "- Carcinoma de Celula...</td>\n",
       "      <td>ESPECÍMENES QUIRÚRGICOS</td>\n",
       "      <td>...</td>\n",
       "      <td>9: se desconoce</td>\n",
       "      <td>9: se desconoce</td>\n",
       "      <td>9: se desconoce</td>\n",
       "      <td>9: se desconoce</td>\n",
       "      <td>8: no aplicable</td>\n",
       "      <td>9: se desconoce</td>\n",
       "      <td>2014-01-16</td>\n",
       "      <td>True</td>\n",
       "      <td>2014-01-08</td>\n",
       "      <td>0.0</td>\n",
       "    </tr>\n",
       "    <tr>\n",
       "      <th>4</th>\n",
       "      <td>JCB 5</td>\n",
       "      <td>29420191</td>\n",
       "      <td>NaT</td>\n",
       "      <td>72</td>\n",
       "      <td>2014-01-07</td>\n",
       "      <td>CARMENZA MACIA, M.D.</td>\n",
       "      <td>A.\tLa muestra corresponde a piel comprometida...</td>\n",
       "      <td>En formol rotulado con el nombre de la pacien...</td>\n",
       "      <td>A.\tPiel de región supraescapular izquierda – ...</td>\n",
       "      <td>ESPECÍMENES QUIRÚRGICOS</td>\n",
       "      <td>...</td>\n",
       "      <td>9: se desconoce</td>\n",
       "      <td>9: se desconoce</td>\n",
       "      <td>9: se desconoce</td>\n",
       "      <td>9: se desconoce</td>\n",
       "      <td>9: se desconoce</td>\n",
       "      <td>9: se desconoce</td>\n",
       "      <td>2019-12-04</td>\n",
       "      <td>False</td>\n",
       "      <td>2014-01-07</td>\n",
       "      <td>70.0</td>\n",
       "    </tr>\n",
       "  </tbody>\n",
       "</table>\n",
       "<p>5 rows × 37 columns</p>\n",
       "</div>"
      ],
      "text/plain": [
       "        origen       cod fecha_nacimiento  edad  val_fecha  \\\n",
       "0        JCB 1   6753803              NaT    80 2014-01-07   \n",
       "1       JCB 15   6753803              NaT    80 2014-01-14   \n",
       "2  ERP2014 641   6753803       1932-07-18    82 2014-12-22   \n",
       "3        JCB 2  32220025              NaT    59 2014-01-08   \n",
       "4        JCB 5  29420191              NaT    72 2014-01-07   \n",
       "\n",
       "                 val_operador  \\\n",
       "0        CARLOS JIMENEZ, M.D.   \n",
       "1        CARLOS JIMENEZ, M.D.   \n",
       "2           ANA M ARRUNATEGUI   \n",
       "3  LUIS ALBERTO ESCOBAR, M.D.   \n",
       "4        CARMENZA MACIA, M.D.   \n",
       "\n",
       "                                               micro  \\\n",
       "0  \n",
       "TUMOR PELVIS RENAL\n",
       "En los cortes histológicos...   \n",
       "1  \n",
       "En los cortes histológicos teñidos con HyE se...   \n",
       "2   DESCRIPCION MICROSCOPICA  En los cortes histo...   \n",
       "3  \n",
       "Se reconoce lesion neoplasica maligna de orig...   \n",
       "4  \n",
       "A.\tLa muestra corresponde a piel comprometida...   \n",
       "\n",
       "                                               macro  \\\n",
       "0  \n",
       "En formalina se recibe por separado y rotulad...   \n",
       "1  \n",
       "En formol se recibe producto de nefrectomía d...   \n",
       "2  DESCRIPCION MACROSCOPICA:  En un frasco con fo...   \n",
       "3  \n",
       "En formol se reciben 4 fragmentos de tejido b...   \n",
       "4  \n",
       "En formol rotulado con el nombre de la pacien...   \n",
       "\n",
       "                                         diagnostico              tipo_examen  \\\n",
       "0  \n",
       "A: TUMOR PELVIS RENAL: BIOPSIA\n",
       "CARCINOMA UROT...  ESPECÍMENES QUIRÚRGICOS   \n",
       "1                                                 \n",
       "\n",
       "  ESPECÍMENES QUIRÚRGICOS   \n",
       "2    DIAGNOSTICO  Vejiga-lesión-biopsia CARCINOMA...     ESPECIMEN QUIRURGICO   \n",
       "3  \n",
       "Pulmón- Masa - Biopsia.\n",
       "- Carcinoma de Celula...  ESPECÍMENES QUIRÚRGICOS   \n",
       "4  \n",
       "A.\tPiel de región supraescapular izquierda – ...  ESPECÍMENES QUIRÚRGICOS   \n",
       "\n",
       "   ...            hueso          cerebro        distantes           higado  \\\n",
       "0  ...  9: se desconoce  9: se desconoce  9: se desconoce  9: se desconoce   \n",
       "1  ...  9: se desconoce  9: se desconoce  9: se desconoce  9: se desconoce   \n",
       "2  ...  9: se desconoce  9: se desconoce  9: se desconoce  9: se desconoce   \n",
       "3  ...  9: se desconoce  9: se desconoce  9: se desconoce  9: se desconoce   \n",
       "4  ...  9: se desconoce  9: se desconoce  9: se desconoce  9: se desconoce   \n",
       "\n",
       "            pulmon            otras fecha_final muerto val_fecha_def sobrevida  \n",
       "0  9: se desconoce  9: se desconoce  2017-12-19   True    2014-01-07      47.0  \n",
       "1  9: se desconoce  9: se desconoce  2017-12-19   True    2014-01-07      47.0  \n",
       "2  9: se desconoce  9: se desconoce  2017-12-19   True    2014-01-07      47.0  \n",
       "3  8: no aplicable  9: se desconoce  2014-01-16   True    2014-01-08       0.0  \n",
       "4  9: se desconoce  9: se desconoce  2019-12-04  False    2014-01-07      70.0  \n",
       "\n",
       "[5 rows x 37 columns]"
      ]
     },
     "execution_count": 16,
     "metadata": {},
     "output_type": "execute_result"
    }
   ],
   "source": [
    "base.head()"
   ]
  },
  {
   "cell_type": "code",
   "execution_count": 19,
   "metadata": {
    "collapsed": false,
    "jupyter": {
     "outputs_hidden": false
    }
   },
   "outputs": [
    {
     "data": {
      "text/plain": [
       "(11539, 35)"
      ]
     },
     "execution_count": 19,
     "metadata": {},
     "output_type": "execute_result"
    }
   ],
   "source": [
    "base_f = base.query('80 > sobrevida > 0').set_index(['origen','cod'])\n",
    "base_f.shape"
   ]
  },
  {
   "cell_type": "markdown",
   "metadata": {
    "collapsed": false
   },
   "source": [
    "# Descripción de los datos"
   ]
  },
  {
   "cell_type": "code",
   "execution_count": 20,
   "metadata": {
    "collapsed": false,
    "jupyter": {
     "outputs_hidden": false
    }
   },
   "outputs": [
    {
     "data": {
      "text/plain": [
       "Index(['fecha_nacimiento', 'edad', 'val_fecha', 'val_operador', 'micro',\n",
       "       'macro', 'diagnostico', 'tipo_examen', 'Grupo', 'topografia',\n",
       "       'morfologia', 'lateralidad', 'comportamiento', 'procedimiento',\n",
       "       'solido', 'hemato', 'grado', 'lymph', 'linfocitaria', 'margenes',\n",
       "       'tamanho', 'pTNM', 'metastasis', 'examinados', 'positivos', 'hueso',\n",
       "       'cerebro', 'distantes', 'higado', 'pulmon', 'otras', 'fecha_final',\n",
       "       'muerto', 'val_fecha_def', 'sobrevida'],\n",
       "      dtype='object')"
      ]
     },
     "execution_count": 20,
     "metadata": {},
     "output_type": "execute_result"
    }
   ],
   "source": [
    "base_f.columns"
   ]
  },
  {
   "cell_type": "code",
   "execution_count": 21,
   "metadata": {
    "collapsed": false
   },
   "outputs": [
    {
     "data": {
      "text/plain": [
       "Mama                          3162\n",
       "Tracto Gastrointestinal       2203\n",
       "Cabeza y cuello               1894\n",
       "Melanoma y tejidos blandos    1518\n",
       "Genitourinario                1337\n",
       "Pulmón y bronquios             723\n",
       "Ginecológico                   702\n",
       "Name: Grupo, dtype: int64"
      ]
     },
     "execution_count": 21,
     "metadata": {},
     "output_type": "execute_result"
    }
   ],
   "source": [
    "base_f[\"Grupo\"].value_counts()"
   ]
  },
  {
   "cell_type": "code",
   "execution_count": 24,
   "metadata": {
    "collapsed": false
   },
   "outputs": [
    {
     "data": {
      "text/plain": [
       "Carcinoma De Célula No Pequeña                  54\n",
       "Adenocarcinoma Primario Pulmonar De Patrón      33\n",
       "Carcinoma De Células Escamosas Mal              20\n",
       "Adenocarcinoma De Origen Pulmonar               17\n",
       "Adenocarcinoma Primario Pulmonar                12\n",
       "Carcinoma Ihc Score Algorithm For               12\n",
       "Adenocarcinoma De Patrón Cribiforme Primario    10\n",
       "Carcinoma                                        8\n",
       "Carcinoma De Células Grandes Primario            7\n",
       "Carcinoma De Pulmón De Célula                    7\n",
       "Adenocarcinoma De Origen Primario Pulmonar       7\n",
       "Adenocarcinoma Primario Del Pulmón De            7\n",
       "Carcinoma Neuroendocrino De Célula Grande        6\n",
       "Células Se Realiza En 500                        6\n",
       "Name: morfologia, dtype: int64"
      ]
     },
     "execution_count": 24,
     "metadata": {},
     "output_type": "execute_result"
    }
   ],
   "source": [
    "s = base_f.query(\"Grupo == 'Pulmón y bronquios'\")['morfologia'].value_counts()\n",
    "s [s > 5 ]"
   ]
  },
  {
   "cell_type": "code",
   "execution_count": 25,
   "metadata": {
    "collapsed": false
   },
   "outputs": [],
   "source": [
    "import matplotlib.pyplot as plt\n",
    "import seaborn as sns\n",
    "sns.set_style('darkgrid')"
   ]
  },
  {
   "cell_type": "code",
   "execution_count": 26,
   "metadata": {
    "collapsed": false
   },
   "outputs": [
    {
     "data": {
      "image/png": "[encoded data removed]",
      "text/plain": [
       "<Figure size 432x288 with 1 Axes>"
      ]
     },
     "metadata": {},
     "output_type": "display_data"
    }
   ],
   "source": [
    "#fig, ax = plt.figure()\n",
    "ax = sns.countplot(data=base_f, y='Grupo', hue='muerto')\n",
    "plt.savefig('Outputs/grupos.png',bbox_inches='tight')"
   ]
  },
  {
   "cell_type": "code",
   "execution_count": 27,
   "metadata": {
    "collapsed": false
   },
   "outputs": [
    {
     "data": {
      "image/png": "[encoded data removed]",
      "text/plain": [
       "<Figure size 432x288 with 1 Axes>"
      ]
     },
     "metadata": {},
     "output_type": "display_data"
    }
   ],
   "source": [
    "#fig, ax = plt.figure()\n",
    "ax = sns.distplot( a=base_f['sobrevida'],kde=False,hist=True)\n",
    "plt.savefig('Outputs/sobrevida.png',bbox_inches='tight')"
   ]
  },
  {
   "cell_type": "markdown",
   "metadata": {
    "collapsed": false
   },
   "source": [
    "## Preprocesamiento de variables"
   ]
  },
  {
   "cell_type": "code",
   "execution_count": 29,
   "metadata": {
    "collapsed": false
   },
   "outputs": [],
   "source": [
    "categoricas = ['grado', 'lymph', 'margenes', 'hueso', 'cerebro', 'distantes', 'higado','pulmon', 'otras',]\n",
    "numericas = ['edad',]\n",
    "ganglios = ['examinados', 'positivos', ]\n",
    "especiales = ['tamanho', 'pTNM', ] "
   ]
  },
  {
   "cell_type": "code",
   "execution_count": 36,
   "metadata": {
    "collapsed": false,
    "jupyter": {
     "outputs_hidden": false
    }
   },
   "outputs": [
    {
     "data": {
      "text/plain": [
       "grado_1: bien diferenciado                 uint8\n",
       "grado_2: moderadamente diferenciado        uint8\n",
       "grado_3: mal diferenciado                  uint8\n",
       "grado_4: indiferenciado                    uint8\n",
       "lymph_0: ausente                           uint8\n",
       "lymph_1: presente                          uint8\n",
       "margenes_0: sin tumor residual             uint8\n",
       "margenes_1: tumor residual; NOS            uint8\n",
       "margenes_2: tumor residual microscópico    uint8\n",
       "margenes_3: tumor residual macroscópico    uint8\n",
       "hueso_0: no metástasis                     uint8\n",
       "hueso_1: metastasís                        uint8\n",
       "cerebro_0: no metástasis                   uint8\n",
       "cerebro_1: metastasís                      uint8\n",
       "cerebro_8: no aplicable                    uint8\n",
       "distantes_0: no metástasis                 uint8\n",
       "distantes_1: metastasís                    uint8\n",
       "distantes_8: no aplicable                  uint8\n",
       "higado_0: no metástasis                    uint8\n",
       "higado_1: metastasís                       uint8\n",
       "higado_8: no aplicable                     uint8\n",
       "pulmon_0: no metástasis                    uint8\n",
       "pulmon_1: metastasís                       uint8\n",
       "pulmon_8: no aplicable                     uint8\n",
       "otras_0: no metástasis                     uint8\n",
       "otras_1: metastasís                        uint8\n",
       "dtype: object"
      ]
     },
     "execution_count": 36,
     "metadata": {},
     "output_type": "execute_result"
    }
   ],
   "source": [
    "base_f_d = pd.get_dummies(base_f[categoricas],drop_first=False)\n",
    "base_f_d = base_f_d.drop(columns=base_f_d.columns[base_f_d.columns.str.contains('9')])\n",
    "base_f_d.dtypes"
   ]
  },
  {
   "cell_type": "code",
   "execution_count": 69,
   "metadata": {
    "collapsed": false,
    "jupyter": {
     "outputs_hidden": false
    }
   },
   "outputs": [
    {
     "data": {
      "text/plain": [
       "edad          float64\n",
       "examinados    float64\n",
       "positivos     float64\n",
       "dtype: object"
      ]
     },
     "execution_count": 69,
     "metadata": {},
     "output_type": "execute_result"
    }
   ],
   "source": [
    "base_f_n = base_f[numericas + ganglios].apply(lambda s:pd.to_numeric(s,errors='coerce'), axis='columns')\n",
    "base_f_n = base_f_n.fillna(-1)\n",
    "base_f_n.dtypes"
   ]
  },
  {
   "cell_type": "markdown",
   "metadata": {
    "collapsed": false
   },
   "source": [
    "# Análisis de supervivencia\n"
   ]
  },
  {
   "cell_type": "code",
   "execution_count": 70,
   "metadata": {
    "collapsed": false,
    "jupyter": {
     "outputs_hidden": false
    }
   },
   "outputs": [],
   "source": [
    "X = pd.concat([base_f_d,base_f_n],axis=\"columns\")\n",
    "T = base_f['sobrevida']\n",
    "E = base_f['muerto']"
   ]
  },
  {
   "cell_type": "code",
   "execution_count": 55,
   "metadata": {
    "collapsed": false,
    "jupyter": {
     "outputs_hidden": false
    }
   },
   "outputs": [],
   "source": [
    "idx = base_f.index\n",
    "idx_gastro = base_f.query('Grupo == \"Tracto Gastrointestinal\"').index\n",
    "idx_mama = base_f.query('Grupo == \"Mama\"').index\n"
   ]
  },
  {
   "cell_type": "code",
   "execution_count": 71,
   "metadata": {
    "collapsed": false
   },
   "outputs": [],
   "source": [
    "grupos = base_f['Grupo'].unique()\n",
    "idxs = {g :idx[base_f['Grupo'] == g] for g in grupos}\n",
    "# idxs"
   ]
  },
  {
   "cell_type": "code",
   "execution_count": null,
   "metadata": {
    "collapsed": false,
    "jupyter": {
     "outputs_hidden": false
    }
   },
   "outputs": [],
   "source": [
    "print(X.shape)\n",
    "X.dtypes"
   ]
  },
  {
   "cell_type": "code",
   "execution_count": null,
   "metadata": {
    "collapsed": false,
    "jupyter": {
     "outputs_hidden": false
    }
   },
   "outputs": [],
   "source": [
    "X.describe()"
   ]
  },
  {
   "cell_type": "code",
   "execution_count": null,
   "metadata": {
    "collapsed": false,
    "jupyter": {
     "outputs_hidden": false
    }
   },
   "outputs": [],
   "source": [
    "T.plot.hist()"
   ]
  },
  {
   "cell_type": "code",
   "execution_count": null,
   "metadata": {
    "collapsed": false,
    "jupyter": {
     "outputs_hidden": false
    }
   },
   "outputs": [],
   "source": [
    "E.value_counts().plot.bar()"
   ]
  },
  {
   "cell_type": "markdown",
   "metadata": {
    "collapsed": false
   },
   "source": [
    "## Estimador de Kaplan Meier"
   ]
  },
  {
   "cell_type": "code",
   "execution_count": 40,
   "metadata": {
    "collapsed": false
   },
   "outputs": [],
   "source": [
    "from lifelines import KaplanMeierFitter, NelsonAalenFitter"
   ]
  },
  {
   "cell_type": "code",
   "execution_count": 48,
   "metadata": {
    "collapsed": false
   },
   "outputs": [
    {
     "name": "stderr",
     "output_type": "stream",
     "text": [
      "/home/johan/anaconda3/envs/FVL/lib/python3.8/site-packages/lifelines/utils/__init__.py:1173: UserWarning: Attempting to convert an unexpected datatype 'object' to float. Suggestion: 1) use `lifelines.utils.datetimes_to_durations` to do conversions or 2) manually convert to floats/booleans.\n",
      "  warnings.warn(warning_text, UserWarning)\n"
     ]
    },
    {
     "data": {
      "text/plain": [
       "<lifelines.KaplanMeierFitter:\"Total\", fitted with 11539 total observations, 9882 right-censored observations>"
      ]
     },
     "execution_count": 48,
     "metadata": {},
     "output_type": "execute_result"
    }
   ],
   "source": [
    "km_total = KaplanMeierFitter()\n",
    "km_total.fit(T,E, label='Total' )"
   ]
  },
  {
   "cell_type": "code",
   "execution_count": 51,
   "metadata": {
    "collapsed": false
   },
   "outputs": [
    {
     "ename": "NameError",
     "evalue": "name 'idx_gastro' is not defined",
     "output_type": "error",
     "traceback": [
      "\u001b[0;31m\u001b[0m",
      "\u001b[0;31mNameError\u001b[0mTraceback (most recent call last)",
      "\u001b[0;32m<ipython-input-51-a0fe4fd6aee4>\u001b[0m in \u001b[0;36m<module>\u001b[0;34m\u001b[0m\n\u001b[1;32m      1\u001b[0m \u001b[0mkm_gastro\u001b[0m \u001b[0;34m=\u001b[0m \u001b[0mKaplanMeierFitter\u001b[0m\u001b[0;34m(\u001b[0m\u001b[0;34m)\u001b[0m\u001b[0;34m\u001b[0m\u001b[0;34m\u001b[0m\u001b[0m\n\u001b[0;32m----> 2\u001b[0;31m \u001b[0mkm_gastro\u001b[0m\u001b[0;34m.\u001b[0m\u001b[0mfit\u001b[0m\u001b[0;34m(\u001b[0m\u001b[0mT\u001b[0m\u001b[0;34m[\u001b[0m\u001b[0midx_gastro\u001b[0m\u001b[0;34m]\u001b[0m\u001b[0;34m,\u001b[0m\u001b[0mE\u001b[0m\u001b[0;34m[\u001b[0m\u001b[0midx_gastro\u001b[0m\u001b[0;34m]\u001b[0m\u001b[0;34m,\u001b[0m \u001b[0mlabel\u001b[0m\u001b[0;34m=\u001b[0m\u001b[0;34m'Gastrico'\u001b[0m \u001b[0;34m)\u001b[0m\u001b[0;34m\u001b[0m\u001b[0;34m\u001b[0m\u001b[0m\n\u001b[0m",
      "\u001b[0;31mNameError\u001b[0m: name 'idx_gastro' is not defined"
     ]
    }
   ],
   "source": [
    "km_gastro = KaplanMeierFitter()\n",
    "km_gastro.fit(T[idx_gastro],E[idx_gastro], label='Gastrico' )"
   ]
  },
  {
   "cell_type": "code",
   "execution_count": 52,
   "metadata": {
    "collapsed": false
   },
   "outputs": [
    {
     "ename": "NameError",
     "evalue": "name 'idx_mama' is not defined",
     "output_type": "error",
     "traceback": [
      "\u001b[0;31m\u001b[0m",
      "\u001b[0;31mNameError\u001b[0mTraceback (most recent call last)",
      "\u001b[0;32m<ipython-input-52-07f651c3643d>\u001b[0m in \u001b[0;36m<module>\u001b[0;34m\u001b[0m\n\u001b[1;32m      1\u001b[0m \u001b[0mkm_mama\u001b[0m \u001b[0;34m=\u001b[0m \u001b[0mKaplanMeierFitter\u001b[0m\u001b[0;34m(\u001b[0m\u001b[0;34m)\u001b[0m\u001b[0;34m\u001b[0m\u001b[0;34m\u001b[0m\u001b[0m\n\u001b[0;32m----> 2\u001b[0;31m \u001b[0mkm_mama\u001b[0m\u001b[0;34m.\u001b[0m\u001b[0mfit\u001b[0m\u001b[0;34m(\u001b[0m\u001b[0mT\u001b[0m\u001b[0;34m[\u001b[0m\u001b[0midx_mama\u001b[0m\u001b[0;34m]\u001b[0m\u001b[0;34m,\u001b[0m\u001b[0mE\u001b[0m\u001b[0;34m[\u001b[0m\u001b[0midx_mama\u001b[0m\u001b[0;34m]\u001b[0m\u001b[0;34m,\u001b[0m \u001b[0mlabel\u001b[0m\u001b[0;34m=\u001b[0m\u001b[0;34m'Mama'\u001b[0m \u001b[0;34m)\u001b[0m\u001b[0;34m\u001b[0m\u001b[0;34m\u001b[0m\u001b[0m\n\u001b[0m",
      "\u001b[0;31mNameError\u001b[0m: name 'idx_mama' is not defined"
     ]
    }
   ],
   "source": [
    "km_mama = KaplanMeierFitter()\n",
    "km_mama.fit(T[idx_mama],E[idx_mama], label='Mama' )"
   ]
  },
  {
   "cell_type": "code",
   "execution_count": 53,
   "metadata": {
    "collapsed": false,
    "jupyter": {
     "outputs_hidden": false
    }
   },
   "outputs": [
    {
     "ename": "AttributeError",
     "evalue": "'KaplanMeierFitter' object has no attribute 'survival_function_'",
     "output_type": "error",
     "traceback": [
      "\u001b[0;31m\u001b[0m",
      "\u001b[0;31mAttributeError\u001b[0mTraceback (most recent call last)",
      "\u001b[0;32m<ipython-input-53-a58c13d109a5>\u001b[0m in \u001b[0;36m<module>\u001b[0;34m\u001b[0m\n\u001b[1;32m      1\u001b[0m \u001b[0mkm_total\u001b[0m\u001b[0;34m.\u001b[0m\u001b[0mplot\u001b[0m\u001b[0;34m(\u001b[0m\u001b[0;34m)\u001b[0m\u001b[0;34m\u001b[0m\u001b[0;34m\u001b[0m\u001b[0m\n\u001b[0;32m----> 2\u001b[0;31m \u001b[0mkm_gastro\u001b[0m\u001b[0;34m.\u001b[0m\u001b[0mplot\u001b[0m\u001b[0;34m(\u001b[0m\u001b[0;34m)\u001b[0m\u001b[0;34m\u001b[0m\u001b[0;34m\u001b[0m\u001b[0m\n\u001b[0m\u001b[1;32m      3\u001b[0m \u001b[0mkm_mama\u001b[0m\u001b[0;34m.\u001b[0m\u001b[0mplot\u001b[0m\u001b[0;34m(\u001b[0m\u001b[0;34m)\u001b[0m\u001b[0;34m\u001b[0m\u001b[0;34m\u001b[0m\u001b[0m\n\u001b[1;32m      4\u001b[0m \u001b[0mplt\u001b[0m\u001b[0;34m.\u001b[0m\u001b[0msavefig\u001b[0m\u001b[0;34m(\u001b[0m\u001b[0;34m'Outputs/km_TotalVsGastroVsMama.png'\u001b[0m\u001b[0;34m,\u001b[0m\u001b[0mbbox_inches\u001b[0m\u001b[0;34m=\u001b[0m\u001b[0;34m'tight'\u001b[0m\u001b[0;34m)\u001b[0m\u001b[0;34m\u001b[0m\u001b[0;34m\u001b[0m\u001b[0m\n",
      "\u001b[0;32m~/anaconda3/envs/FVL/lib/python3.8/site-packages/lifelines/fitters/kaplan_meier_fitter.py\u001b[0m in \u001b[0;36mplot\u001b[0;34m(self, **kwargs)\u001b[0m\n\u001b[1;32m    406\u001b[0m \u001b[0;34m\u001b[0m\u001b[0m\n\u001b[1;32m    407\u001b[0m     \u001b[0;32mdef\u001b[0m \u001b[0mplot\u001b[0m\u001b[0;34m(\u001b[0m\u001b[0mself\u001b[0m\u001b[0;34m,\u001b[0m \u001b[0;34m**\u001b[0m\u001b[0mkwargs\u001b[0m\u001b[0;34m)\u001b[0m\u001b[0;34m:\u001b[0m\u001b[0;34m\u001b[0m\u001b[0;34m\u001b[0m\u001b[0m\n\u001b[0;32m--> 408\u001b[0;31m         \u001b[0;32mreturn\u001b[0m \u001b[0mself\u001b[0m\u001b[0;34m.\u001b[0m\u001b[0mplot_survival_function\u001b[0m\u001b[0;34m(\u001b[0m\u001b[0;34m**\u001b[0m\u001b[0mkwargs\u001b[0m\u001b[0;34m)\u001b[0m\u001b[0;34m\u001b[0m\u001b[0;34m\u001b[0m\u001b[0m\n\u001b[0m\u001b[1;32m    409\u001b[0m \u001b[0;34m\u001b[0m\u001b[0m\n\u001b[1;32m    410\u001b[0m     \u001b[0;32mdef\u001b[0m \u001b[0mplot_survival_function\u001b[0m\u001b[0;34m(\u001b[0m\u001b[0mself\u001b[0m\u001b[0;34m,\u001b[0m \u001b[0;34m**\u001b[0m\u001b[0mkwargs\u001b[0m\u001b[0;34m)\u001b[0m\u001b[0;34m:\u001b[0m\u001b[0;34m\u001b[0m\u001b[0;34m\u001b[0m\u001b[0m\n",
      "\u001b[0;32m~/anaconda3/envs/FVL/lib/python3.8/site-packages/lifelines/fitters/kaplan_meier_fitter.py\u001b[0m in \u001b[0;36mplot_survival_function\u001b[0;34m(self, **kwargs)\u001b[0m\n\u001b[1;32m    411\u001b[0m         \u001b[0;34m\"\"\"Alias of ``plot``\"\"\"\u001b[0m\u001b[0;34m\u001b[0m\u001b[0;34m\u001b[0m\u001b[0m\n\u001b[1;32m    412\u001b[0m         \u001b[0;32mif\u001b[0m \u001b[0;32mnot\u001b[0m \u001b[0mCensoringType\u001b[0m\u001b[0;34m.\u001b[0m\u001b[0mis_interval_censoring\u001b[0m\u001b[0;34m(\u001b[0m\u001b[0mself\u001b[0m\u001b[0;34m)\u001b[0m\u001b[0;34m:\u001b[0m\u001b[0;34m\u001b[0m\u001b[0;34m\u001b[0m\u001b[0m\n\u001b[0;32m--> 413\u001b[0;31m             \u001b[0;32mreturn\u001b[0m \u001b[0m_plot_estimate\u001b[0m\u001b[0;34m(\u001b[0m\u001b[0mself\u001b[0m\u001b[0;34m,\u001b[0m \u001b[0mestimate\u001b[0m\u001b[0;34m=\u001b[0m\u001b[0;34m\"survival_function_\"\u001b[0m\u001b[0;34m,\u001b[0m \u001b[0;34m**\u001b[0m\u001b[0mkwargs\u001b[0m\u001b[0;34m)\u001b[0m\u001b[0;34m\u001b[0m\u001b[0;34m\u001b[0m\u001b[0m\n\u001b[0m\u001b[1;32m    414\u001b[0m         \u001b[0;32melse\u001b[0m\u001b[0;34m:\u001b[0m\u001b[0;34m\u001b[0m\u001b[0;34m\u001b[0m\u001b[0m\n\u001b[1;32m    415\u001b[0m             \u001b[0;31m# hack for now.\u001b[0m\u001b[0;34m\u001b[0m\u001b[0;34m\u001b[0m\u001b[0;34m\u001b[0m\u001b[0m\n",
      "\u001b[0;32m~/anaconda3/envs/FVL/lib/python3.8/site-packages/lifelines/plotting.py\u001b[0m in \u001b[0;36m_plot_estimate\u001b[0;34m(cls, estimate, loc, iloc, show_censors, censor_styles, ci_legend, ci_force_lines, ci_only_lines, ci_no_lines, ci_alpha, ci_show, at_risk_counts, logx, ax, **kwargs)\u001b[0m\n\u001b[1;32m    837\u001b[0m         \u001b[0mci_only_lines\u001b[0m \u001b[0;34m=\u001b[0m \u001b[0mci_force_lines\u001b[0m\u001b[0;34m\u001b[0m\u001b[0;34m\u001b[0m\u001b[0m\n\u001b[1;32m    838\u001b[0m \u001b[0;34m\u001b[0m\u001b[0m\n\u001b[0;32m--> 839\u001b[0;31m     \u001b[0mplot_estimate_config\u001b[0m \u001b[0;34m=\u001b[0m \u001b[0mPlotEstimateConfig\u001b[0m\u001b[0;34m(\u001b[0m\u001b[0mcls\u001b[0m\u001b[0;34m,\u001b[0m \u001b[0mestimate\u001b[0m\u001b[0;34m,\u001b[0m \u001b[0mloc\u001b[0m\u001b[0;34m,\u001b[0m \u001b[0miloc\u001b[0m\u001b[0;34m,\u001b[0m \u001b[0mshow_censors\u001b[0m\u001b[0;34m,\u001b[0m \u001b[0mcensor_styles\u001b[0m\u001b[0;34m,\u001b[0m \u001b[0mlogx\u001b[0m\u001b[0;34m,\u001b[0m \u001b[0max\u001b[0m\u001b[0;34m,\u001b[0m \u001b[0;34m**\u001b[0m\u001b[0mkwargs\u001b[0m\u001b[0;34m)\u001b[0m\u001b[0;34m\u001b[0m\u001b[0;34m\u001b[0m\u001b[0m\n\u001b[0m\u001b[1;32m    840\u001b[0m \u001b[0;34m\u001b[0m\u001b[0m\n\u001b[1;32m    841\u001b[0m     \u001b[0mdataframe_slicer\u001b[0m \u001b[0;34m=\u001b[0m \u001b[0mcreate_dataframe_slicer\u001b[0m\u001b[0;34m(\u001b[0m\u001b[0miloc\u001b[0m\u001b[0;34m,\u001b[0m \u001b[0mloc\u001b[0m\u001b[0;34m,\u001b[0m \u001b[0mcls\u001b[0m\u001b[0;34m.\u001b[0m\u001b[0mtimeline\u001b[0m\u001b[0;34m)\u001b[0m\u001b[0;34m\u001b[0m\u001b[0;34m\u001b[0m\u001b[0m\n",
      "\u001b[0;32m~/anaconda3/envs/FVL/lib/python3.8/site-packages/lifelines/plotting.py\u001b[0m in \u001b[0;36m__init__\u001b[0;34m(self, cls, estimate, loc, iloc, show_censors, censor_styles, logx, ax, **kwargs)\u001b[0m\n\u001b[1;32m    920\u001b[0m \u001b[0;34m\u001b[0m\u001b[0m\n\u001b[1;32m    921\u001b[0m         \u001b[0;32mif\u001b[0m \u001b[0misinstance\u001b[0m\u001b[0;34m(\u001b[0m\u001b[0mestimate\u001b[0m\u001b[0;34m,\u001b[0m \u001b[0mstr\u001b[0m\u001b[0;34m)\u001b[0m\u001b[0;34m:\u001b[0m\u001b[0;34m\u001b[0m\u001b[0;34m\u001b[0m\u001b[0m\n\u001b[0;32m--> 922\u001b[0;31m             \u001b[0mself\u001b[0m\u001b[0;34m.\u001b[0m\u001b[0mestimate_\u001b[0m \u001b[0;34m=\u001b[0m \u001b[0mgetattr\u001b[0m\u001b[0;34m(\u001b[0m\u001b[0mcls\u001b[0m\u001b[0;34m,\u001b[0m \u001b[0mestimate\u001b[0m\u001b[0;34m)\u001b[0m\u001b[0;34m\u001b[0m\u001b[0;34m\u001b[0m\u001b[0m\n\u001b[0m\u001b[1;32m    923\u001b[0m             \u001b[0mself\u001b[0m\u001b[0;34m.\u001b[0m\u001b[0mconfidence_interval_\u001b[0m \u001b[0;34m=\u001b[0m \u001b[0mgetattr\u001b[0m\u001b[0;34m(\u001b[0m\u001b[0mcls\u001b[0m\u001b[0;34m,\u001b[0m \u001b[0;34m\"confidence_interval_\"\u001b[0m \u001b[0;34m+\u001b[0m \u001b[0mestimate\u001b[0m\u001b[0;34m)\u001b[0m\u001b[0;34m\u001b[0m\u001b[0;34m\u001b[0m\u001b[0m\n\u001b[1;32m    924\u001b[0m             \u001b[0mself\u001b[0m\u001b[0;34m.\u001b[0m\u001b[0mpredict_at_times\u001b[0m \u001b[0;34m=\u001b[0m \u001b[0mgetattr\u001b[0m\u001b[0;34m(\u001b[0m\u001b[0mcls\u001b[0m\u001b[0;34m,\u001b[0m \u001b[0mestimate\u001b[0m \u001b[0;34m+\u001b[0m \u001b[0;34m\"at_times\"\u001b[0m\u001b[0;34m)\u001b[0m\u001b[0;34m\u001b[0m\u001b[0;34m\u001b[0m\u001b[0m\n",
      "\u001b[0;31mAttributeError\u001b[0m: 'KaplanMeierFitter' object has no attribute 'survival_function_'"
     ]
    },
    {
     "data": {
      "image/png": "[encoded data removed]",
      "text/plain": [
       "<Figure size 432x288 with 1 Axes>"
      ]
     },
     "metadata": {},
     "output_type": "display_data"
    },
    {
     "ename": "AttributeError",
     "evalue": "'KaplanMeierFitter' object has no attribute 'survival_function_'",
     "output_type": "error",
     "traceback": [
      "\u001b[0;31m\u001b[0m",
      "\u001b[0;31mAttributeError\u001b[0mTraceback (most recent call last)",
      "\u001b[0;32m<ipython-input-53-a58c13d109a5>\u001b[0m in \u001b[0;36m<module>\u001b[0;34m\u001b[0m\n\u001b[1;32m      1\u001b[0m \u001b[0mkm_total\u001b[0m\u001b[0;34m.\u001b[0m\u001b[0mplot\u001b[0m\u001b[0;34m(\u001b[0m\u001b[0;34m)\u001b[0m\u001b[0;34m\u001b[0m\u001b[0;34m\u001b[0m\u001b[0m\n\u001b[0;32m----> 2\u001b[0;31m \u001b[0mkm_gastro\u001b[0m\u001b[0;34m.\u001b[0m\u001b[0mplot\u001b[0m\u001b[0;34m(\u001b[0m\u001b[0;34m)\u001b[0m\u001b[0;34m\u001b[0m\u001b[0;34m\u001b[0m\u001b[0m\n\u001b[0m\u001b[1;32m      3\u001b[0m \u001b[0mkm_mama\u001b[0m\u001b[0;34m.\u001b[0m\u001b[0mplot\u001b[0m\u001b[0;34m(\u001b[0m\u001b[0;34m)\u001b[0m\u001b[0;34m\u001b[0m\u001b[0;34m\u001b[0m\u001b[0m\n\u001b[1;32m      4\u001b[0m \u001b[0mplt\u001b[0m\u001b[0;34m.\u001b[0m\u001b[0msavefig\u001b[0m\u001b[0;34m(\u001b[0m\u001b[0;34m'Outputs/km_TotalVsGastroVsMama.png'\u001b[0m\u001b[0;34m,\u001b[0m\u001b[0mbbox_inches\u001b[0m\u001b[0;34m=\u001b[0m\u001b[0;34m'tight'\u001b[0m\u001b[0;34m)\u001b[0m\u001b[0;34m\u001b[0m\u001b[0;34m\u001b[0m\u001b[0m\n",
      "\u001b[0;32m~/anaconda3/envs/FVL/lib/python3.8/site-packages/lifelines/fitters/kaplan_meier_fitter.py\u001b[0m in \u001b[0;36mplot\u001b[0;34m(self, **kwargs)\u001b[0m\n\u001b[1;32m    406\u001b[0m \u001b[0;34m\u001b[0m\u001b[0m\n\u001b[1;32m    407\u001b[0m     \u001b[0;32mdef\u001b[0m \u001b[0mplot\u001b[0m\u001b[0;34m(\u001b[0m\u001b[0mself\u001b[0m\u001b[0;34m,\u001b[0m \u001b[0;34m**\u001b[0m\u001b[0mkwargs\u001b[0m\u001b[0;34m)\u001b[0m\u001b[0;34m:\u001b[0m\u001b[0;34m\u001b[0m\u001b[0;34m\u001b[0m\u001b[0m\n\u001b[0;32m--> 408\u001b[0;31m         \u001b[0;32mreturn\u001b[0m \u001b[0mself\u001b[0m\u001b[0;34m.\u001b[0m\u001b[0mplot_survival_function\u001b[0m\u001b[0;34m(\u001b[0m\u001b[0;34m**\u001b[0m\u001b[0mkwargs\u001b[0m\u001b[0;34m)\u001b[0m\u001b[0;34m\u001b[0m\u001b[0;34m\u001b[0m\u001b[0m\n\u001b[0m\u001b[1;32m    409\u001b[0m \u001b[0;34m\u001b[0m\u001b[0m\n\u001b[1;32m    410\u001b[0m     \u001b[0;32mdef\u001b[0m \u001b[0mplot_survival_function\u001b[0m\u001b[0;34m(\u001b[0m\u001b[0mself\u001b[0m\u001b[0;34m,\u001b[0m \u001b[0;34m**\u001b[0m\u001b[0mkwargs\u001b[0m\u001b[0;34m)\u001b[0m\u001b[0;34m:\u001b[0m\u001b[0;34m\u001b[0m\u001b[0;34m\u001b[0m\u001b[0m\n",
      "\u001b[0;32m~/anaconda3/envs/FVL/lib/python3.8/site-packages/lifelines/fitters/kaplan_meier_fitter.py\u001b[0m in \u001b[0;36mplot_survival_function\u001b[0;34m(self, **kwargs)\u001b[0m\n\u001b[1;32m    411\u001b[0m         \u001b[0;34m\"\"\"Alias of ``plot``\"\"\"\u001b[0m\u001b[0;34m\u001b[0m\u001b[0;34m\u001b[0m\u001b[0m\n\u001b[1;32m    412\u001b[0m         \u001b[0;32mif\u001b[0m \u001b[0;32mnot\u001b[0m \u001b[0mCensoringType\u001b[0m\u001b[0;34m.\u001b[0m\u001b[0mis_interval_censoring\u001b[0m\u001b[0;34m(\u001b[0m\u001b[0mself\u001b[0m\u001b[0;34m)\u001b[0m\u001b[0;34m:\u001b[0m\u001b[0;34m\u001b[0m\u001b[0;34m\u001b[0m\u001b[0m\n\u001b[0;32m--> 413\u001b[0;31m             \u001b[0;32mreturn\u001b[0m \u001b[0m_plot_estimate\u001b[0m\u001b[0;34m(\u001b[0m\u001b[0mself\u001b[0m\u001b[0;34m,\u001b[0m \u001b[0mestimate\u001b[0m\u001b[0;34m=\u001b[0m\u001b[0;34m\"survival_function_\"\u001b[0m\u001b[0;34m,\u001b[0m \u001b[0;34m**\u001b[0m\u001b[0mkwargs\u001b[0m\u001b[0;34m)\u001b[0m\u001b[0;34m\u001b[0m\u001b[0;34m\u001b[0m\u001b[0m\n\u001b[0m\u001b[1;32m    414\u001b[0m         \u001b[0;32melse\u001b[0m\u001b[0;34m:\u001b[0m\u001b[0;34m\u001b[0m\u001b[0;34m\u001b[0m\u001b[0m\n\u001b[1;32m    415\u001b[0m             \u001b[0;31m# hack for now.\u001b[0m\u001b[0;34m\u001b[0m\u001b[0;34m\u001b[0m\u001b[0;34m\u001b[0m\u001b[0m\n",
      "\u001b[0;32m~/anaconda3/envs/FVL/lib/python3.8/site-packages/lifelines/plotting.py\u001b[0m in \u001b[0;36m_plot_estimate\u001b[0;34m(cls, estimate, loc, iloc, show_censors, censor_styles, ci_legend, ci_force_lines, ci_only_lines, ci_no_lines, ci_alpha, ci_show, at_risk_counts, logx, ax, **kwargs)\u001b[0m\n\u001b[1;32m    837\u001b[0m         \u001b[0mci_only_lines\u001b[0m \u001b[0;34m=\u001b[0m \u001b[0mci_force_lines\u001b[0m\u001b[0;34m\u001b[0m\u001b[0;34m\u001b[0m\u001b[0m\n\u001b[1;32m    838\u001b[0m \u001b[0;34m\u001b[0m\u001b[0m\n\u001b[0;32m--> 839\u001b[0;31m     \u001b[0mplot_estimate_config\u001b[0m \u001b[0;34m=\u001b[0m \u001b[0mPlotEstimateConfig\u001b[0m\u001b[0;34m(\u001b[0m\u001b[0mcls\u001b[0m\u001b[0;34m,\u001b[0m \u001b[0mestimate\u001b[0m\u001b[0;34m,\u001b[0m \u001b[0mloc\u001b[0m\u001b[0;34m,\u001b[0m \u001b[0miloc\u001b[0m\u001b[0;34m,\u001b[0m \u001b[0mshow_censors\u001b[0m\u001b[0;34m,\u001b[0m \u001b[0mcensor_styles\u001b[0m\u001b[0;34m,\u001b[0m \u001b[0mlogx\u001b[0m\u001b[0;34m,\u001b[0m \u001b[0max\u001b[0m\u001b[0;34m,\u001b[0m \u001b[0;34m**\u001b[0m\u001b[0mkwargs\u001b[0m\u001b[0;34m)\u001b[0m\u001b[0;34m\u001b[0m\u001b[0;34m\u001b[0m\u001b[0m\n\u001b[0m\u001b[1;32m    840\u001b[0m \u001b[0;34m\u001b[0m\u001b[0m\n\u001b[1;32m    841\u001b[0m     \u001b[0mdataframe_slicer\u001b[0m \u001b[0;34m=\u001b[0m \u001b[0mcreate_dataframe_slicer\u001b[0m\u001b[0;34m(\u001b[0m\u001b[0miloc\u001b[0m\u001b[0;34m,\u001b[0m \u001b[0mloc\u001b[0m\u001b[0;34m,\u001b[0m \u001b[0mcls\u001b[0m\u001b[0;34m.\u001b[0m\u001b[0mtimeline\u001b[0m\u001b[0;34m)\u001b[0m\u001b[0;34m\u001b[0m\u001b[0;34m\u001b[0m\u001b[0m\n",
      "\u001b[0;32m~/anaconda3/envs/FVL/lib/python3.8/site-packages/lifelines/plotting.py\u001b[0m in \u001b[0;36m__init__\u001b[0;34m(self, cls, estimate, loc, iloc, show_censors, censor_styles, logx, ax, **kwargs)\u001b[0m\n\u001b[1;32m    920\u001b[0m \u001b[0;34m\u001b[0m\u001b[0m\n\u001b[1;32m    921\u001b[0m         \u001b[0;32mif\u001b[0m \u001b[0misinstance\u001b[0m\u001b[0;34m(\u001b[0m\u001b[0mestimate\u001b[0m\u001b[0;34m,\u001b[0m \u001b[0mstr\u001b[0m\u001b[0;34m)\u001b[0m\u001b[0;34m:\u001b[0m\u001b[0;34m\u001b[0m\u001b[0;34m\u001b[0m\u001b[0m\n\u001b[0;32m--> 922\u001b[0;31m             \u001b[0mself\u001b[0m\u001b[0;34m.\u001b[0m\u001b[0mestimate_\u001b[0m \u001b[0;34m=\u001b[0m \u001b[0mgetattr\u001b[0m\u001b[0;34m(\u001b[0m\u001b[0mcls\u001b[0m\u001b[0;34m,\u001b[0m \u001b[0mestimate\u001b[0m\u001b[0;34m)\u001b[0m\u001b[0;34m\u001b[0m\u001b[0;34m\u001b[0m\u001b[0m\n\u001b[0m\u001b[1;32m    923\u001b[0m             \u001b[0mself\u001b[0m\u001b[0;34m.\u001b[0m\u001b[0mconfidence_interval_\u001b[0m \u001b[0;34m=\u001b[0m \u001b[0mgetattr\u001b[0m\u001b[0;34m(\u001b[0m\u001b[0mcls\u001b[0m\u001b[0;34m,\u001b[0m \u001b[0;34m\"confidence_interval_\"\u001b[0m \u001b[0;34m+\u001b[0m \u001b[0mestimate\u001b[0m\u001b[0;34m)\u001b[0m\u001b[0;34m\u001b[0m\u001b[0;34m\u001b[0m\u001b[0m\n\u001b[1;32m    924\u001b[0m             \u001b[0mself\u001b[0m\u001b[0;34m.\u001b[0m\u001b[0mpredict_at_times\u001b[0m \u001b[0;34m=\u001b[0m \u001b[0mgetattr\u001b[0m\u001b[0;34m(\u001b[0m\u001b[0mcls\u001b[0m\u001b[0;34m,\u001b[0m \u001b[0mestimate\u001b[0m \u001b[0;34m+\u001b[0m \u001b[0;34m\"at_times\"\u001b[0m\u001b[0;34m)\u001b[0m\u001b[0;34m\u001b[0m\u001b[0;34m\u001b[0m\u001b[0m\n",
      "\u001b[0;31mAttributeError\u001b[0m: 'KaplanMeierFitter' object has no attribute 'survival_function_'"
     ]
    }
   ],
   "source": [
    "km_total.plot()\n",
    "km_gastro.plot()\n",
    "km_mama.plot()\n",
    "plt.savefig('Outputs/km_TotalVsGastroVsMama.png',bbox_inches='tight')"
   ]
  },
  {
   "cell_type": "code",
   "execution_count": 49,
   "metadata": {
    "collapsed": false
   },
   "outputs": [
    {
     "name": "stderr",
     "output_type": "stream",
     "text": [
      "/home/johan/anaconda3/envs/FVL/lib/python3.8/site-packages/lifelines/utils/__init__.py:1173: UserWarning: Attempting to convert an unexpected datatype 'object' to float. Suggestion: 1) use `lifelines.utils.datetimes_to_durations` to do conversions or 2) manually convert to floats/booleans.\n",
      "  warnings.warn(warning_text, UserWarning)\n",
      "/home/johan/anaconda3/envs/FVL/lib/python3.8/site-packages/lifelines/utils/__init__.py:1173: UserWarning: Attempting to convert an unexpected datatype 'object' to float. Suggestion: 1) use `lifelines.utils.datetimes_to_durations` to do conversions or 2) manually convert to floats/booleans.\n",
      "  warnings.warn(warning_text, UserWarning)\n"
     ]
    },
    {
     "name": "stderr",
     "output_type": "stream",
     "text": [
      "/home/johan/anaconda3/envs/FVL/lib/python3.8/site-packages/lifelines/utils/__init__.py:1173: UserWarning: Attempting to convert an unexpected datatype 'object' to float. Suggestion: 1) use `lifelines.utils.datetimes_to_durations` to do conversions or 2) manually convert to floats/booleans.\n",
      "  warnings.warn(warning_text, UserWarning)\n",
      "/home/johan/anaconda3/envs/FVL/lib/python3.8/site-packages/lifelines/utils/__init__.py:1173: UserWarning: Attempting to convert an unexpected datatype 'object' to float. Suggestion: 1) use `lifelines.utils.datetimes_to_durations` to do conversions or 2) manually convert to floats/booleans.\n",
      "  warnings.warn(warning_text, UserWarning)\n"
     ]
    },
    {
     "name": "stderr",
     "output_type": "stream",
     "text": [
      "/home/johan/anaconda3/envs/FVL/lib/python3.8/site-packages/lifelines/utils/__init__.py:1173: UserWarning: Attempting to convert an unexpected datatype 'object' to float. Suggestion: 1) use `lifelines.utils.datetimes_to_durations` to do conversions or 2) manually convert to floats/booleans.\n",
      "  warnings.warn(warning_text, UserWarning)\n",
      "/home/johan/anaconda3/envs/FVL/lib/python3.8/site-packages/lifelines/utils/__init__.py:1173: UserWarning: Attempting to convert an unexpected datatype 'object' to float. Suggestion: 1) use `lifelines.utils.datetimes_to_durations` to do conversions or 2) manually convert to floats/booleans.\n",
      "  warnings.warn(warning_text, UserWarning)\n"
     ]
    },
    {
     "name": "stderr",
     "output_type": "stream",
     "text": [
      "/home/johan/anaconda3/envs/FVL/lib/python3.8/site-packages/lifelines/utils/__init__.py:1173: UserWarning: Attempting to convert an unexpected datatype 'object' to float. Suggestion: 1) use `lifelines.utils.datetimes_to_durations` to do conversions or 2) manually convert to floats/booleans.\n",
      "  warnings.warn(warning_text, UserWarning)\n"
     ]
    },
    {
     "data": {
      "image/png": "[encoded data removed]",
      "text/plain": [
       "<Figure size 432x288 with 1 Axes>"
      ]
     },
     "metadata": {},
     "output_type": "display_data"
    },
    {
     "data": {
      "image/png": "[encoded data removed]",
      "text/plain": [
       "<Figure size 432x288 with 1 Axes>"
      ]
     },
     "metadata": {},
     "output_type": "display_data"
    },
    {
     "data": {
      "image/png": "[encoded data removed]",
      "text/plain": [
       "<Figure size 432x288 with 1 Axes>"
      ]
     },
     "metadata": {},
     "output_type": "display_data"
    },
    {
     "data": {
      "image/png": "[encoded data removed]",
      "text/plain": [
       "<Figure size 432x288 with 1 Axes>"
      ]
     },
     "metadata": {},
     "output_type": "display_data"
    },
    {
     "data": {
      "image/png": "[encoded data removed]",
      "text/plain": [
       "<Figure size 432x288 with 1 Axes>"
      ]
     },
     "metadata": {},
     "output_type": "display_data"
    },
    {
     "data": {
      "image/png": "[encoded data removed]",
      "text/plain": [
       "<Figure size 432x288 with 1 Axes>"
      ]
     },
     "metadata": {},
     "output_type": "display_data"
    },
    {
     "data": {
      "image/png": "[encoded data removed]",
      "text/plain": [
       "<Figure size 432x288 with 1 Axes>"
      ]
     },
     "metadata": {},
     "output_type": "display_data"
    }
   ],
   "source": [
    "grupos = base_f['Grupo'].unique()\n",
    "kmf = KaplanMeierFitter()\n",
    "for g in grupos:\n",
    "    # ax = plt.subplot(2, 4, i + 1)\n",
    "    plt.figure()\n",
    "\n",
    "    ix = base_f['Grupo'] == g\n",
    "    kmf.fit(T[ix], E[ix], label=g)\n",
    "    km_total.plot()\n",
    "    kmf.plot()\n",
    "\n",
    "    plt.title(g)\n",
    "    # plt.xlim(0, 80)\n",
    "    plt.savefig(f'Outputs/km_TotalVs{g}.png',bbox_inches='tight')\n",
    "\n"
   ]
  },
  {
   "cell_type": "code",
   "execution_count": null,
   "metadata": {
    "collapsed": false
   },
   "outputs": [],
   "source": [
    "na_total = NelsonAalenFitter()\n",
    "na_total.fit(T,E, label='Total' )"
   ]
  },
  {
   "cell_type": "markdown",
   "metadata": {
    "collapsed": false
   },
   "source": [
    "## Cox proportional Hazzard"
   ]
  },
  {
   "cell_type": "markdown",
   "metadata": {
    "collapsed": false
   },
   "source": [
    "Dividir en base de entrenamiento y validación"
   ]
  },
  {
   "cell_type": "code",
   "execution_count": 72,
   "metadata": {
    "collapsed": false,
    "jupyter": {
     "outputs_hidden": false
    }
   },
   "outputs": [],
   "source": [
    "from sklearn.model_selection import train_test_split\n",
    "index_train, index_test = train_test_split( idx, test_size = 0.25)\n",
    "index_train_gastro, index_test_gastro = train_test_split( idx_gastro, test_size = 0.25)\n",
    "index_train_mama, index_test_mama = train_test_split( idx_mama, test_size = 0.25)\n"
   ]
  },
  {
   "cell_type": "code",
   "execution_count": 61,
   "metadata": {
    "collapsed": false,
    "jupyter": {
     "outputs_hidden": false
    }
   },
   "outputs": [],
   "source": [
    "from pysurvival.models.semi_parametric import CoxPHModel"
   ]
  },
  {
   "cell_type": "code",
   "execution_count": 73,
   "metadata": {
    "collapsed": false,
    "jupyter": {
     "outputs_hidden": true
    }
   },
   "outputs": [
    {
     "name": "stdout",
     "output_type": "stream",
     "text": [
      "Performing Newton-Raphson optimization\n",
      " * Iteration #1 - Loss = 10435.788 - ||grad||^2 = 1129.85833\n"
     ]
    },
    {
     "name": "stdout",
     "output_type": "stream",
     "text": [
      " * Iteration #2 - Loss = 10339.733 - ||grad||^2 = 1007.05214\n",
      " * Iteration #3 - Loss = 10274.275 - ||grad||^2 = 903.17446\n"
     ]
    },
    {
     "name": "stdout",
     "output_type": "stream",
     "text": [
      " * Iteration #4 - Loss = 10224.994 - ||grad||^2 = 811.15498\n",
      " * Iteration #5 - Loss = 10186.676 - ||grad||^2 = 729.13319\n"
     ]
    },
    {
     "name": "stdout",
     "output_type": "stream",
     "text": [
      " * Iteration #6 - Loss = 10156.302 - ||grad||^2 = 655.77399\n",
      " * Iteration #7 - Loss = 10131.917 - ||grad||^2 = 590.02466\n"
     ]
    },
    {
     "name": "stdout",
     "output_type": "stream",
     "text": [
      " * Iteration #8 - Loss = 10112.170 - ||grad||^2 = 531.01362\n",
      " * Iteration #9 - Loss = 10096.082 - ||grad||^2 = 477.99883\n"
     ]
    },
    {
     "name": "stdout",
     "output_type": "stream",
     "text": [
      " * Iteration #10 - Loss = 10082.917 - ||grad||^2 = 430.33774\n",
      " * Iteration #11 - Loss = 10072.111 - ||grad||^2 = 387.46771\n"
     ]
    },
    {
     "name": "stdout",
     "output_type": "stream",
     "text": [
      " * Iteration #12 - Loss = 10063.223 - ||grad||^2 = 348.89243\n",
      " * Iteration #13 - Loss = 10055.901 - ||grad||^2 = 314.17176\n"
     ]
    },
    {
     "name": "stdout",
     "output_type": "stream",
     "text": [
      " * Iteration #14 - Loss = 10049.865 - ||grad||^2 = 282.91391\n",
      " * Iteration #15 - Loss = 10044.885 - ||grad||^2 = 254.76913\n"
     ]
    },
    {
     "name": "stdout",
     "output_type": "stream",
     "text": [
      " * Iteration #16 - Loss = 10040.778 - ||grad||^2 = 229.42451\n",
      " * Iteration #17 - Loss = 10037.390 - ||grad||^2 = 206.59968\n"
     ]
    },
    {
     "name": "stdout",
     "output_type": "stream",
     "text": [
      " * Iteration #18 - Loss = 10034.597 - ||grad||^2 = 186.04304\n",
      " * Iteration #19 - Loss = 10032.296 - ||grad||^2 = 167.52864\n"
     ]
    },
    {
     "name": "stdout",
     "output_type": "stream",
     "text": [
      " * Iteration #20 - Loss = 10030.400 - ||grad||^2 = 150.85338\n",
      " * Iteration #21 - Loss = 10028.840 - ||grad||^2 = 135.83456\n"
     ]
    },
    {
     "name": "stdout",
     "output_type": "stream",
     "text": [
      " * Iteration #22 - Loss = 10027.557 - ||grad||^2 = 122.30779\n",
      " * Iteration #23 - Loss = 10026.503 - ||grad||^2 = 110.12506\n"
     ]
    },
    {
     "name": "stdout",
     "output_type": "stream",
     "text": [
      " * Iteration #24 - Loss = 10025.637 - ||grad||^2 = 99.15311\n",
      " * Iteration #25 - Loss = 10024.927 - ||grad||^2 = 89.27188\n"
     ]
    },
    {
     "name": "stdout",
     "output_type": "stream",
     "text": [
      " * Iteration #26 - Loss = 10024.345 - ||grad||^2 = 80.37324\n",
      " * Iteration #27 - Loss = 10023.868 - ||grad||^2 = 72.35974\n"
     ]
    },
    {
     "name": "stdout",
     "output_type": "stream",
     "text": [
      " * Iteration #28 - Loss = 10023.478 - ||grad||^2 = 65.14360\n",
      " * Iteration #29 - Loss = 10023.159 - ||grad||^2 = 58.64571\n"
     ]
    },
    {
     "name": "stdout",
     "output_type": "stream",
     "text": [
      " * Iteration #30 - Loss = 10022.899 - ||grad||^2 = 52.79478\n",
      " * Iteration #31 - Loss = 10022.686 - ||grad||^2 = 47.52657\n"
     ]
    },
    {
     "name": "stdout",
     "output_type": "stream",
     "text": [
      " * Iteration #32 - Loss = 10022.512 - ||grad||^2 = 42.78322\n",
      " * Iteration #33 - Loss = 10022.370 - ||grad||^2 = 38.51256\n"
     ]
    },
    {
     "name": "stdout",
     "output_type": "stream",
     "text": [
      " * Iteration #34 - Loss = 10022.254 - ||grad||^2 = 34.66760\n",
      " * Iteration #35 - Loss = 10022.160 - ||grad||^2 = 31.20601\n"
     ]
    },
    {
     "name": "stdout",
     "output_type": "stream",
     "text": [
      " * Iteration #36 - Loss = 10022.083 - ||grad||^2 = 28.08965\n",
      " * Iteration #37 - Loss = 10022.021 - ||grad||^2 = 25.28416\n"
     ]
    },
    {
     "name": "stdout",
     "output_type": "stream",
     "text": [
      " * Iteration #38 - Loss = 10021.970 - ||grad||^2 = 22.75859\n",
      " * Iteration #39 - Loss = 10021.928 - ||grad||^2 = 20.48506\n"
     ]
    },
    {
     "name": "stdout",
     "output_type": "stream",
     "text": [
      " * Iteration #40 - Loss = 10021.895 - ||grad||^2 = 18.43845\n",
      " * Iteration #41 - Loss = 10021.867 - ||grad||^2 = 16.59616\n"
     ]
    },
    {
     "name": "stdout",
     "output_type": "stream",
     "text": [
      " * Iteration #42 - Loss = 10021.845 - ||grad||^2 = 14.93781\n",
      " * Iteration #43 - Loss = 10021.827 - ||grad||^2 = 13.44506\n"
     ]
    },
    {
     "name": "stdout",
     "output_type": "stream",
     "text": [
      " * Iteration #44 - Loss = 10021.812 - ||grad||^2 = 12.10140\n",
      " * Iteration #45 - Loss = 10021.800 - ||grad||^2 = 10.89195\n"
     ]
    },
    {
     "name": "stdout",
     "output_type": "stream",
     "text": [
      " * Iteration #46 - Loss = 10021.790 - ||grad||^2 = 9.80331\n",
      " * Iteration #47 - Loss = 10021.782 - ||grad||^2 = 8.82343\n"
     ]
    },
    {
     "name": "stdout",
     "output_type": "stream",
     "text": [
      " * Iteration #48 - Loss = 10021.776 - ||grad||^2 = 7.94146\n",
      " * Iteration #49 - Loss = 10021.770 - ||grad||^2 = 7.14762\n"
     ]
    },
    {
     "name": "stdout",
     "output_type": "stream",
     "text": [
      " * Iteration #50 - Loss = 10021.766 - ||grad||^2 = 6.43310\n",
      " * Iteration #51 - Loss = 10021.763 - ||grad||^2 = 5.78999\n"
     ]
    },
    {
     "name": "stdout",
     "output_type": "stream",
     "text": [
      " * Iteration #52 - Loss = 10021.760 - ||grad||^2 = 5.21116\n",
      " * Iteration #53 - Loss = 10021.758 - ||grad||^2 = 4.69017\n"
     ]
    },
    {
     "name": "stdout",
     "output_type": "stream",
     "text": [
      " * Iteration #54 - Loss = 10021.756 - ||grad||^2 = 4.22126\n",
      " * Iteration #55 - Loss = 10021.754 - ||grad||^2 = 3.79923\n"
     ]
    },
    {
     "name": "stdout",
     "output_type": "stream",
     "text": [
      " * Iteration #56 - Loss = 10021.753 - ||grad||^2 = 3.41938\n",
      " * Iteration #57 - Loss = 10021.752 - ||grad||^2 = 3.07750\n"
     ]
    },
    {
     "name": "stdout",
     "output_type": "stream",
     "text": [
      " * Iteration #58 - Loss = 10021.751 - ||grad||^2 = 2.76979\n",
      " * Iteration #59 - Loss = 10021.750 - ||grad||^2 = 2.49285\n"
     ]
    },
    {
     "name": "stdout",
     "output_type": "stream",
     "text": [
      " * Iteration #60 - Loss = 10021.750 - ||grad||^2 = 2.24360\n",
      " * Iteration #61 - Loss = 10021.749 - ||grad||^2 = 2.01927\n"
     ]
    },
    {
     "name": "stdout",
     "output_type": "stream",
     "text": [
      " * Iteration #62 - Loss = 10021.749 - ||grad||^2 = 1.81736\n",
      " * Iteration #63 - Loss = 10021.749 - ||grad||^2 = 1.63564\n"
     ]
    },
    {
     "name": "stdout",
     "output_type": "stream",
     "text": [
      " * Iteration #64 - Loss = 10021.748 - ||grad||^2 = 1.47209\n",
      " * Iteration #65 - Loss = 10021.748 - ||grad||^2 = 1.32490\n",
      " * Iteration #66 - Loss = 10021.748 - ||grad||^2 = 1.19242\n"
     ]
    },
    {
     "name": "stdout",
     "output_type": "stream",
     "text": [
      " * Iteration #67 - Loss = 10021.748 - ||grad||^2 = 1.07318\n",
      " * Iteration #68 - Loss = 10021.748 - ||grad||^2 = 0.96587\n"
     ]
    },
    {
     "name": "stdout",
     "output_type": "stream",
     "text": [
      " * Iteration #69 - Loss = 10021.748 - ||grad||^2 = 0.86929\n",
      " * Iteration #70 - Loss = 10021.748 - ||grad||^2 = 0.78236\n"
     ]
    },
    {
     "name": "stdout",
     "output_type": "stream",
     "text": [
      " * Iteration #71 - Loss = 10021.748 - ||grad||^2 = 0.70413\n",
      " * Iteration #72 - Loss = 10021.747 - ||grad||^2 = 0.63372\n"
     ]
    },
    {
     "name": "stdout",
     "output_type": "stream",
     "text": [
      " * Iteration #73 - Loss = 10021.747 - ||grad||^2 = 0.57035\n",
      " * Iteration #74 - Loss = 10021.747 - ||grad||^2 = 0.51332\n"
     ]
    },
    {
     "name": "stdout",
     "output_type": "stream",
     "text": [
      " * Iteration #75 - Loss = 10021.747 - ||grad||^2 = 0.46199\n",
      " * Iteration #76 - Loss = 10021.747 - ||grad||^2 = 0.41579\n"
     ]
    },
    {
     "name": "stdout",
     "output_type": "stream",
     "text": [
      " * Iteration #77 - Loss = 10021.747 - ||grad||^2 = 0.37421\n",
      " * Iteration #78 - Loss = 10021.747 - ||grad||^2 = 0.33679\n"
     ]
    },
    {
     "name": "stdout",
     "output_type": "stream",
     "text": [
      " * Iteration #79 - Loss = 10021.747 - ||grad||^2 = 0.30311\n",
      " * Iteration #80 - Loss = 10021.747 - ||grad||^2 = 0.27280\n"
     ]
    },
    {
     "name": "stdout",
     "output_type": "stream",
     "text": [
      " * Iteration #81 - Loss = 10021.747 - ||grad||^2 = 0.24552\n",
      " * Iteration #82 - Loss = 10021.747 - ||grad||^2 = 0.22097\n"
     ]
    },
    {
     "name": "stdout",
     "output_type": "stream",
     "text": [
      " * Iteration #83 - Loss = 10021.747 - ||grad||^2 = 0.19888\n",
      " * Iteration #84 - Loss = 10021.747 - ||grad||^2 = 0.17899\n"
     ]
    },
    {
     "name": "stdout",
     "output_type": "stream",
     "text": [
      " * Iteration #85 - Loss = 10021.747 - ||grad||^2 = 0.16109\n",
      " * Iteration #86 - Loss = 10021.747 - ||grad||^2 = 0.14498\n"
     ]
    },
    {
     "name": "stdout",
     "output_type": "stream",
     "text": [
      " * Iteration #87 - Loss = 10021.747 - ||grad||^2 = 0.13048\n",
      " * Iteration #88 - Loss = 10021.747 - ||grad||^2 = 0.11744\n"
     ]
    },
    {
     "name": "stdout",
     "output_type": "stream",
     "text": [
      " * Iteration #89 - Loss = 10021.747 - ||grad||^2 = 0.10569\n",
      " * Iteration #90 - Loss = 10021.747 - ||grad||^2 = 0.09512\n"
     ]
    },
    {
     "name": "stdout",
     "output_type": "stream",
     "text": [
      " * Iteration #91 - Loss = 10021.747 - ||grad||^2 = 0.08561\n",
      " * Iteration #92 - Loss = 10021.747 - ||grad||^2 = 0.07705\n"
     ]
    },
    {
     "name": "stdout",
     "output_type": "stream",
     "text": [
      " * Iteration #93 - Loss = 10021.747 - ||grad||^2 = 0.06934\n",
      " * Iteration #94 - Loss = 10021.747 - ||grad||^2 = 0.06241\n"
     ]
    },
    {
     "name": "stdout",
     "output_type": "stream",
     "text": [
      " * Iteration #95 - Loss = 10021.747 - ||grad||^2 = 0.05617\n",
      " * Iteration #96 - Loss = 10021.747 - ||grad||^2 = 0.05055\n"
     ]
    },
    {
     "name": "stdout",
     "output_type": "stream",
     "text": [
      " * Iteration #97 - Loss = 10021.747 - ||grad||^2 = 0.04550\n",
      " * Iteration #98 - Loss = 10021.747 - ||grad||^2 = 0.04095\n"
     ]
    },
    {
     "name": "stdout",
     "output_type": "stream",
     "text": [
      " * Iteration #99 - Loss = 10021.747 - ||grad||^2 = 0.03685\n",
      " * Iteration #100 - Loss = 10021.747 - ||grad||^2 = 0.03317\n",
      "Optimization reached max number of iterations.\n"
     ]
    },
    {
     "data": {
      "text/plain": [
       "CoxPHModel"
      ]
     },
     "execution_count": 73,
     "metadata": {},
     "output_type": "execute_result"
    }
   ],
   "source": [
    "coxph_total = CoxPHModel()\n",
    "coxph_total.fit(X.loc[index_train,:], T[index_train], E[index_train], init_method='zeros',verbose=True, lr=0.1)"
   ]
  },
  {
   "cell_type": "code",
   "execution_count": null,
   "metadata": {
    "collapsed": false,
    "jupyter": {
     "outputs_hidden": true
    }
   },
   "outputs": [],
   "source": [
    "coxph_gastro = CoxPHModel()\n",
    "coxph_gastro.fit(X.loc[index_train_gastro,:], T[index_train_gastro], E[index_train_gastro], init_method='zeros',verbose=True, lr=0.5)"
   ]
  },
  {
   "cell_type": "code",
   "execution_count": null,
   "metadata": {
    "collapsed": false,
    "jupyter": {
     "outputs_hidden": true
    }
   },
   "outputs": [],
   "source": [
    "coxph_mama = CoxPHModel()\n",
    "coxph_mama.fit(X.loc[index_train_mama,:], T[index_train_mama], E[index_train_mama], init_method='zeros',verbose=True, lr=0.1)"
   ]
  },
  {
   "cell_type": "code",
   "execution_count": null,
   "metadata": {
    "collapsed": false,
    "jupyter": {
     "outputs_hidden": false
    }
   },
   "outputs": [],
   "source": [
    "out_path = 'Outputs/'\n",
    "coxph_total.save(out_path+'super_coxph_total.zip')\n",
    "coxph_gastro.save(out_path+'super_coxph_gastro.zip')\n",
    "coxph_mama.save(out_path+'super_coxph_total.zip')\n"
   ]
  },
  {
   "cell_type": "code",
   "execution_count": 74,
   "metadata": {
    "collapsed": false
   },
   "outputs": [],
   "source": [
    "coxph_total.summary.sort_values(by='p_values').head(7).to_latex('Outputs/CoxPHTotal.tex')"
   ]
  },
  {
   "cell_type": "code",
   "execution_count": null,
   "metadata": {
    "collapsed": false
   },
   "outputs": [],
   "source": [
    "coxph_gastro.summary.sort_values(by='p_values').head(6)"
   ]
  },
  {
   "cell_type": "code",
   "execution_count": null,
   "metadata": {
    "collapsed": false
   },
   "outputs": [],
   "source": [
    "coxph_mama.summary.sort_values(by='p_values').head()"
   ]
  },
  {
   "cell_type": "code",
   "execution_count": 76,
   "metadata": {
    "collapsed": false
   },
   "outputs": [],
   "source": [
    "from pysurvival.utils.metrics import concordance_index\n",
    "from pysurvival.utils.display import integrated_brier_score\n"
   ]
  },
  {
   "cell_type": "code",
   "execution_count": 77,
   "metadata": {
    "collapsed": false
   },
   "outputs": [
    {
     "name": "stdout",
     "output_type": "stream",
     "text": [
      "C-index: 0.708\n"
     ]
    }
   ],
   "source": [
    "c_index_cox_total = concordance_index(coxph_total,X.loc[index_test,:], T[index_test], E[index_test])\n",
    "print('C-index: {:.3f}'.format(c_index_cox_total))"
   ]
  },
  {
   "cell_type": "code",
   "execution_count": null,
   "metadata": {
    "collapsed": false
   },
   "outputs": [],
   "source": [
    "c_index_cox_gastro = concordance_index(coxph_gastro,X.loc[index_test_gastro,:], T[index_test_gastro], E[index_test_gastro])\n",
    "print('C-index: {:.3f}'.format(c_index_cox_gastro))"
   ]
  },
  {
   "cell_type": "code",
   "execution_count": null,
   "metadata": {
    "collapsed": false
   },
   "outputs": [],
   "source": [
    "c_index_cox_mama = concordance_index(coxph_mama,X.loc[index_test_mama,:], T[index_test_mama], E[index_test_mama])\n",
    "print('C-index: {:.3f}'.format(c_index_cox_mama))"
   ]
  },
  {
   "cell_type": "code",
   "execution_count": 83,
   "metadata": {
    "collapsed": false
   },
   "outputs": [
    {
     "ename": "NameError",
     "evalue": "name 'coxph_mama' is not defined",
     "output_type": "error",
     "traceback": [
      "\u001b[0;31m\u001b[0m",
      "\u001b[0;31mNameError\u001b[0mTraceback (most recent call last)",
      "\u001b[0;32m<ipython-input-83-53ca3e8b56a7>\u001b[0m in \u001b[0;36m<module>\u001b[0;34m\u001b[0m\n\u001b[0;32m----> 1\u001b[0;31m ibs = integrated_brier_score(coxph_mama, X.loc[index_test_mama,:], T[index_test_mama], E[index_test_mama], t_max=100,\n\u001b[0m\u001b[1;32m      2\u001b[0m             figure_size=(20, 6.5) )\n\u001b[1;32m      3\u001b[0m \u001b[0mprint\u001b[0m\u001b[0;34m(\u001b[0m\u001b[0;34m'IBS: {:.2f}'\u001b[0m\u001b[0;34m.\u001b[0m\u001b[0mformat\u001b[0m\u001b[0;34m(\u001b[0m\u001b[0mibs\u001b[0m\u001b[0;34m)\u001b[0m\u001b[0;34m)\u001b[0m\u001b[0;34m\u001b[0m\u001b[0;34m\u001b[0m\u001b[0m\n",
      "\u001b[0;31mNameError\u001b[0m: name 'coxph_mama' is not defined"
     ]
    }
   ],
   "source": [
    "ibs = integrated_brier_score(coxph_mama, X.loc[index_test_mama,:], T[index_test_mama], E[index_test_mama], t_max=100,\n",
    "            figure_size=(20, 6.5) )\n",
    "print('IBS: {:.2f}'.format(ibs))"
   ]
  },
  {
   "cell_type": "markdown",
   "metadata": {
    "collapsed": false
   },
   "source": [
    "## Random Survival forest"
   ]
  },
  {
   "cell_type": "code",
   "execution_count": 78,
   "metadata": {
    "collapsed": false
   },
   "outputs": [],
   "source": [
    "from pysurvival.models.survival_forest import ConditionalSurvivalForestModel\n",
    "from pysurvival.models.survival_forest import RandomSurvivalForestModel"
   ]
  },
  {
   "cell_type": "markdown",
   "metadata": {
    "collapsed": false
   },
   "source": [
    "## elección condicional de puntos de corte"
   ]
  },
  {
   "cell_type": "code",
   "execution_count": 79,
   "metadata": {
    "collapsed": false
   },
   "outputs": [
    {
     "name": "stdout",
     "output_type": "stream",
     "text": [
      "CPU times: user 1min 21s, sys: 82 ms, total: 1min 21s\n",
      "Wall time: 11.1 s\n"
     ]
    },
    {
     "data": {
      "text/plain": [
       "ConditionalSurvivalForestModel"
      ]
     },
     "execution_count": 79,
     "metadata": {},
     "output_type": "execute_result"
    }
   ],
   "source": [
    "%%time\n",
    "csf = ConditionalSurvivalForestModel(num_trees=40)\n",
    "csf.fit(X.loc[index_train,:], T[index_train], E[index_train], max_features='sqrt',\n",
    "        max_depth=5, min_node_size=20, alpha=0.05, minprop=0.1)"
   ]
  },
  {
   "cell_type": "code",
   "execution_count": 81,
   "metadata": {
    "collapsed": false
   },
   "outputs": [],
   "source": [
    "csf.variable_importance_table.head().to_latex('Outputs/RFcTotal.tex')"
   ]
  },
  {
   "cell_type": "code",
   "execution_count": 82,
   "metadata": {
    "collapsed": false
   },
   "outputs": [
    {
     "name": "stdout",
     "output_type": "stream",
     "text": [
      "C-index: 0.661\n"
     ]
    }
   ],
   "source": [
    "c_index_csf_total = concordance_index(csf,X.loc[index_test,:], T[index_test], E[index_test])\n",
    "print('C-index: {:.3f}'.format(c_index_csf_total))"
   ]
  },
  {
   "cell_type": "code",
   "execution_count": null,
   "metadata": {
    "collapsed": false
   },
   "outputs": [],
   "source": [
    "csf_gastro = ConditionalSurvivalForestModel(num_trees=40)\n",
    "csf_gastro.fit(X.loc[index_train_gastro,:], T[index_train_gastro], E[index_train_gastro], max_features='sqrt',\n",
    "        max_depth=5, min_node_size=20, alpha=0.05, minprop=0.1)"
   ]
  },
  {
   "cell_type": "code",
   "execution_count": null,
   "metadata": {
    "collapsed": false
   },
   "outputs": [],
   "source": [
    "csf_gastro.variable_importance_table"
   ]
  },
  {
   "cell_type": "code",
   "execution_count": null,
   "metadata": {
    "collapsed": false
   },
   "outputs": [],
   "source": [
    "c_index_csf_gastro = concordance_index(csf,X.loc[index_test_gastro,:], T[index_test_gastro], E[index_test_gastro])\n",
    "print('C-index: {:.3f}'.format(c_index_csf_gastro))"
   ]
  },
  {
   "cell_type": "markdown",
   "metadata": {
    "collapsed": false
   },
   "source": [
    "## seleccion aleatoria de cortes"
   ]
  },
  {
   "cell_type": "code",
   "execution_count": null,
   "metadata": {
    "collapsed": false
   },
   "outputs": [],
   "source": [
    "rsf = RandomSurvivalForestModel(num_trees=40)\n",
    "rsf.fit(X.loc[index_train,:], T[index_train], E[index_train], max_features='sqrt',\n",
    "        max_depth=5, min_node_size=20)"
   ]
  },
  {
   "cell_type": "code",
   "execution_count": null,
   "metadata": {
    "collapsed": false
   },
   "outputs": [],
   "source": [
    "rsf.variable_importance_table.head(4).to_latex(out_path+\"tabla_2.tex\", index=False)"
   ]
  },
  {
   "cell_type": "code",
   "execution_count": null,
   "metadata": {
    "collapsed": false
   },
   "outputs": [],
   "source": [
    "c_index = concordance_index(rsf,X.loc[index_test,:], T[index_test], E[index_test])\n",
    "print('C-index: {:.3f}'.format(c_index))\n"
   ]
  },
  {
   "cell_type": "code",
   "execution_count": null,
   "metadata": {
    "collapsed": false
   },
   "outputs": [],
   "source": [
    "%aimport extraer.marcadores\n",
    "import extraer.marcadores as ex\n"
   ]
  },
  {
   "cell_type": "code",
   "execution_count": null,
   "metadata": {
    "collapsed": false
   },
   "outputs": [],
   "source": []
  }
 ],
 "metadata": {
  "kernelspec": {
   "argv": [
    "/home/johan/anaconda3/envs/FVL/bin/python",
    "-m",
    "ipykernel_launcher",
    "-f",
    "{connection_file}"
   ],
   "display_name": "FVL",
   "env": null,
   "interrupt_mode": "signal",
   "language": "python",
   "metadata": null,
   "name": "fvl"
  },
  "language_info": {
   "codemirror_mode": {
    "name": "ipython",
    "version": 3
   },
   "file_extension": ".py",
   "mimetype": "text/x-python",
   "name": "python",
   "nbconvert_exporter": "python",
   "pygments_lexer": "ipython3",
   "version": "3.8.5"
  },
  "name": "Supervivencia.ipynb"
 },
 "nbformat": 4,
 "nbformat_minor": 4
}
