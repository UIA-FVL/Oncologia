{
 "cells": [
  {
   "cell_type": "markdown",
   "metadata": {
    "collapsed": false
   },
   "source": [
    "# Lectura, Limpieza y consolidación de bases de datos"
   ]
  },
  {
   "cell_type": "code",
   "execution_count": 1,
   "metadata": {
    "collapsed": false,
    "jupyter": {
     "outputs_hidden": false
    }
   },
   "outputs": [],
   "source": [
    "import pandas as pd\n",
    "import numpy as np\n",
    "import re"
   ]
  },
  {
   "cell_type": "markdown",
   "metadata": {
    "collapsed": false
   },
   "source": [
    "## Base JCB"
   ]
  },
  {
   "cell_type": "code",
   "execution_count": null,
   "metadata": {
    "collapsed": false,
    "jupyter": {
     "outputs_hidden": false
    }
   },
   "outputs": [],
   "source": [
    "JCB = pd.read_excel('Data/1_BD_JCB_malignidad_QUANTIL.xlsx')"
   ]
  },
  {
   "cell_type": "code",
   "execution_count": 3,
   "metadata": {
    "collapsed": false,
    "jupyter": {
     "outputs_hidden": false
    }
   },
   "outputs": [
    {
     "name": "stdout",
     "output_type": "stream",
     "text": [
      "Numero de observaciones y variables:  (2580, 7)\n",
      "Nombres de las variables:\n",
      " ['Id', 'Codigo Unico ', 'Edad', 'Validación - firma operador ', 'Diagnóstico - Texto largo', 'Validación – Fecha ', 'Tipo de examen ']\n"
     ]
    }
   ],
   "source": [
    "print('Numero de observaciones y variables: ', JCB.shape)\n",
    "print('Nombres de las variables:\\n', JCB.columns.to_list())"
   ]
  },
  {
   "cell_type": "markdown",
   "metadata": {
    "collapsed": false
   },
   "source": [
    "- `Id`: Es un indice. Vamos a unirla con el nombre de la base para trazar el origen de cada observación. \n",
    "\n",
    "- `Codigo Unico `, `Edad`, `Validación - firma operador ` y `Validación – Fecha ` son variables útiles unicamente para la validación de la información. Vamos a darles un nombre estandar.\n",
    "\n",
    "- **No tenemos informacion sobre la fecha de nacimiento del paciente.**\n",
    "\n",
    "- `Tipo de examen `: Información útil, pero no requerida en la base de entrega. Vamos a darle un nombre estandar.\n",
    "\n",
    "- `Diagnóstico - Texto largo`: Información central. Además del diagnostico, contiene descripciones macroscopica, microscopica y de inmunohistoquimica. Vamos a separar esa información en columnas distintas."
   ]
  },
  {
   "cell_type": "code",
   "execution_count": 4,
   "metadata": {
    "collapsed": false,
    "jupyter": {
     "outputs_hidden": false
    }
   },
   "outputs": [],
   "source": [
    "JCB['origen'] =  'JCB '+ JCB.Id.apply(str)"
   ]
  },
  {
   "cell_type": "code",
   "execution_count": 5,
   "metadata": {
    "collapsed": false,
    "jupyter": {
     "outputs_hidden": false
    }
   },
   "outputs": [],
   "source": [
    "JCB.rename(columns={'Codigo Unico ':'cod','Edad':'edad', \n",
    "                    'Validación - firma operador ':'val_operador',\n",
    "                    'Diagnóstico - Texto largo':'diagnostico_tot', 'Validación – Fecha ':'val_fecha',\n",
    "                    'Tipo de examen ':'tipo_examen'\n",
    "                   },inplace = True)"
   ]
  },
  {
   "cell_type": "markdown",
   "metadata": {
    "collapsed": false
   },
   "source": [
    "Vamos a extraer de la variable  `diagnostico_tot`, las variables centrales: `diagnostico`, `micro` y `macro`; también la variable `inmunohistoquimica` cuando esté presente."
   ]
  },
  {
   "cell_type": "code",
   "execution_count": 6,
   "metadata": {
    "collapsed": false,
    "jupyter": {
     "outputs_hidden": false
    }
   },
   "outputs": [],
   "source": [
    "espacios_repetidos= re.compile('(?P<s>\\s)(?P=s)*')\n",
    "\n",
    "var = '('+'|'.join(['DIAGN','MACROS','MICROS', 'INMUNOH'])+')'\n",
    "pre = r'^\\s?(?:(?:D?ESC|ESTU)\\w+ )?(?:DE )?'\n",
    "pos = r'\\w+:?\\s'\n",
    "pat = re.compile(pre+var+pos, re.I | re.M)\n",
    "\n",
    "def separar (texto):\n",
    "    \"\"\"Crea un diccionario con los patrones extraidos del texto y el texto entre ellos.\"\"\"\n",
    "    #print(\"\\n\\nProcesando...\\n\")\n",
    "    texto= espacios_repetidos.sub(r'\\g<s>',texto) # quitar espacios repetidos\n",
    "    ms = pat.finditer(texto)\n",
    "    ll,l,s,t = [''],['PRE'],[0],[]\n",
    "    for m in ms:\n",
    "        #print(\"He encontrado\", m.group(0))\n",
    "        ll.append(m.group(0))\n",
    "        l.append(m.group(1).upper())\n",
    "        s.append(m.end())\n",
    "        t.append(m.start())\n",
    "    t.append(len(texto))\n",
    "    k= l +[x+\"_Label\" for x in l]\n",
    "    d=dict.fromkeys(k, \"\")\n",
    "    for i in range(len(s)):\n",
    "        d[l[i]+\"_Label\"] +='\\t'+ll[i]\n",
    "        d[l[i]] += '\\n'+texto[s[i]:t[i]]\n",
    "    return d\n"
   ]
  },
  {
   "cell_type": "code",
   "execution_count": 7,
   "metadata": {
    "collapsed": false,
    "jupyter": {
     "outputs_hidden": false
    }
   },
   "outputs": [],
   "source": [
    "JCB['sep_diag'] = JCB.diagnostico_tot.apply(lambda x : separar(str (x)))"
   ]
  },
  {
   "cell_type": "code",
   "execution_count": 8,
   "metadata": {
    "collapsed": false,
    "jupyter": {
     "outputs_hidden": false
    }
   },
   "outputs": [],
   "source": [
    "JCB['micro']= JCB.sep_diag.apply(lambda x: x.get('MICROS'))\n",
    "JCB['micro_L']= JCB.sep_diag.apply(lambda x: x.get('MICROS_Label'))\n",
    "#JCB.micro_L.value_counts(dropna=False)"
   ]
  },
  {
   "cell_type": "code",
   "execution_count": 9,
   "metadata": {
    "collapsed": false,
    "jupyter": {
     "outputs_hidden": false
    }
   },
   "outputs": [],
   "source": [
    "JCB['macro']= JCB.sep_diag.apply(lambda x: x.get('MACROS'))\n",
    "JCB['macro_L']= JCB.sep_diag.apply(lambda x: x.get('MACROS_Label'))\n",
    "#JCB.macro_L.value_counts(dropna=False)"
   ]
  },
  {
   "cell_type": "code",
   "execution_count": 10,
   "metadata": {
    "collapsed": false,
    "jupyter": {
     "outputs_hidden": false
    }
   },
   "outputs": [],
   "source": [
    "JCB['diagnostico']= JCB.sep_diag.apply(lambda x: x.get('DIAGN',\"\")+'\\n'+x.get('PRE',\"\"))\n",
    "JCB['diagnostico_L']= JCB.sep_diag.apply(lambda x: x.get('DIAGN_Label'))\n",
    "#JCB.diagnostico_L.value_counts(dropna=False)"
   ]
  },
  {
   "cell_type": "code",
   "execution_count": 11,
   "metadata": {
    "collapsed": false,
    "jupyter": {
     "outputs_hidden": false
    }
   },
   "outputs": [],
   "source": [
    "JCB['inmunohistoquimica']= JCB.sep_diag.apply(lambda x: x.get('INMUNOH',\"\"))\n",
    "JCB['inmunohistoquimica_L']= JCB.sep_diag.apply(lambda x: x.get('INMUNOH_Label'))\n",
    "#JCB.inmunohistoquimica_L.value_counts(dropna=False)"
   ]
  },
  {
   "cell_type": "code",
   "execution_count": 12,
   "metadata": {
    "collapsed": false,
    "jupyter": {
     "outputs_hidden": false
    }
   },
   "outputs": [
    {
     "name": "stdout",
     "output_type": "stream",
     "text": [
      "No hemos encontrado micro ni macro en registros. (466, 17)\n"
     ]
    }
   ],
   "source": [
    "NotRead = JCB[JCB.micro_L.isna() & JCB.macro_L.isna()]\n",
    "print('No hemos encontrado micro ni macro en registros.', NotRead.shape)"
   ]
  },
  {
   "cell_type": "markdown",
   "metadata": {
    "collapsed": false
   },
   "source": [
    "**Por ahora vamos a pegar inmunohistoqumica a la micro.**"
   ]
  },
  {
   "cell_type": "code",
   "execution_count": 13,
   "metadata": {
    "collapsed": false,
    "jupyter": {
     "outputs_hidden": false
    }
   },
   "outputs": [],
   "source": [
    "JCB.inmunohistoquimica = '\\nINMUNOHISTOQUIMICA:\\n'+JCB.inmunohistoquimica\n",
    "JCB.micro += JCB.inmunohistoquimica.fillna('')\n",
    "JCB= JCB.drop(['Id','macro_L','micro_L','inmunohistoquimica', 'inmunohistoquimica_L','sep_diag','diagnostico_tot','diagnostico_L'],1)"
   ]
  },
  {
   "cell_type": "markdown",
   "metadata": {
    "collapsed": false
   },
   "source": [
    "## Base ERP"
   ]
  },
  {
   "cell_type": "code",
   "execution_count": 14,
   "metadata": {
    "collapsed": false,
    "jupyter": {
     "outputs_hidden": false
    }
   },
   "outputs": [],
   "source": [
    "ERP2014 = pd.read_excel('Data/2_BD_ERP_malignidad_ QUANTIL.xlsx', sheet_name='ERP 2014')\n",
    "ERP2014['origen'] = 'ERP2014 '+ERP2014.ID.apply(str)\n",
    "ERP2015 = pd.read_excel('Data/2_BD_ERP_malignidad_ QUANTIL.xlsx', sheet_name='ERP 2015')\n",
    "ERP2015['origen'] = 'ERP2015 '+ERP2015.ID.apply(str)\n",
    "ERP2016 = pd.read_excel('Data/2_BD_ERP_malignidad_ QUANTIL.xlsx', sheet_name='ERP 2016')\n",
    "ERP2016['origen'] = 'ERP2016 '+ERP2016.ID.apply(str)\n",
    "ERP2017 = pd.read_excel('Data/2_BD_ERP_malignidad_ QUANTIL.xlsx', sheet_name='ERP 2017')\n",
    "ERP2017['origen'] = 'ERP2017 '+ERP2017.ID.apply(str)\n",
    "ERP2018 = pd.read_excel('Data/2_BD_ERP_malignidad_ QUANTIL.xlsx', sheet_name='ERP 2018')\n",
    "ERP2018['origen'] = 'ERP2018 '+ERP2018.ID.apply(str)"
   ]
  },
  {
   "cell_type": "code",
   "execution_count": 15,
   "metadata": {
    "collapsed": false,
    "jupyter": {
     "outputs_hidden": false
    }
   },
   "outputs": [],
   "source": [
    "ERP = pd.concat([ERP2014,ERP2015,ERP2016,ERP2017,ERP2018]).reset_index(drop = True)"
   ]
  },
  {
   "cell_type": "code",
   "execution_count": 16,
   "metadata": {
    "collapsed": false,
    "jupyter": {
     "outputs_hidden": false
    }
   },
   "outputs": [
    {
     "name": "stdout",
     "output_type": "stream",
     "text": [
      "Numero de observaciones y variables:  (11061, 10)\n",
      "Nombres de las variables:\n",
      " ['ID', 'Codigo Unico', 'FechaNacimiento', 'Tipo de examen', 'Macro - Texto largo', 'Micro - Texto largo', 'Diagnóstico - Texto largo', 'Validación - firma operador', 'Validación - Fecha', 'origen']\n"
     ]
    }
   ],
   "source": [
    "print('Numero de observaciones y variables: ', ERP.shape)\n",
    "print('Nombres de las variables:\\n', ERP.columns.to_list())"
   ]
  },
  {
   "cell_type": "markdown",
   "metadata": {
    "collapsed": false
   },
   "source": [
    "- `ID`: Es un indice. Vamos a unirla con el nombre de la base para trazar el origen de cada observación.\n",
    "\n",
    "- `Codigo Unico `, `FechaNacimiento`, `Validación - firma operador` y `Validación – Fecha` son variables útiles unicamente para la validación de la información. Vamos a darles un nombre estandar.\n",
    "\n",
    "- No tenemos la edad del paciente pero podemos calcularla apartir de las fechas de validación y de nacimiento.\n",
    "\n",
    "- `Tipo de examen `: Información útil, pero no requerida en la base de entrega. Vamos a darle un nombre estandar.\n",
    "\n",
    "- `Macro - Texto largo`, `Micro - Texto largo``Diagnóstico - Texto largo`: Información central. Vamos a darle un nombre estandar."
   ]
  },
  {
   "cell_type": "code",
   "execution_count": 17,
   "metadata": {
    "collapsed": false,
    "jupyter": {
     "outputs_hidden": false
    }
   },
   "outputs": [],
   "source": [
    "ERP = ERP.drop('ID',1)\n",
    "ERP.rename(columns={'Codigo Unico':'cod',\n",
    "                    'Validación - firma operador':'val_operador',\n",
    "                    'Macro - Texto largo':'macro',\n",
    "                    'Micro - Texto largo':'micro',\n",
    "                    'Diagnóstico - Texto largo':'diagnostico',\n",
    "                    'Validación - Fecha':'val_fecha',\n",
    "                    'FechaNacimiento':'fecha_nacimiento',\n",
    "                    'Tipo de examen':'tipo_examen'\n",
    "                   },inplace = True)"
   ]
  },
  {
   "cell_type": "code",
   "execution_count": 18,
   "metadata": {
    "collapsed": false,
    "jupyter": {
     "outputs_hidden": false
    }
   },
   "outputs": [],
   "source": [
    "ERP['edad']= (ERP.val_fecha - ERP.fecha_nacimiento)//np.timedelta64(1,'Y')"
   ]
  },
  {
   "cell_type": "markdown",
   "metadata": {
    "collapsed": false
   },
   "source": [
    "## Base PATHOX"
   ]
  },
  {
   "cell_type": "code",
   "execution_count": 19,
   "metadata": {
    "collapsed": false,
    "jupyter": {
     "outputs_hidden": false
    }
   },
   "outputs": [],
   "source": [
    "Pathox2018 = pd.read_excel('Data/3_BD_PATHOX 2018_malignidad_QUANTIL.xlsx')\n",
    "Pathox2018['origen'] = 'Pathox2018 '+Pathox2018.ID.apply(str)\n",
    "Pathox2019 = pd.read_excel('Data/4_BD_PATHOX 2019_malignidad_QUANTIL.xlsx')\n",
    "Pathox2019['origen'] = 'Pathox2019 '+Pathox2019.ID.apply(str)"
   ]
  },
  {
   "cell_type": "code",
   "execution_count": 20,
   "metadata": {
    "collapsed": false,
    "jupyter": {
     "outputs_hidden": false
    }
   },
   "outputs": [],
   "source": [
    "Pathox = pd.concat([Pathox2018 ,Pathox2019 ]).reset_index(drop =True)"
   ]
  },
  {
   "cell_type": "code",
   "execution_count": 21,
   "metadata": {
    "collapsed": false,
    "jupyter": {
     "outputs_hidden": false
    }
   },
   "outputs": [
    {
     "name": "stdout",
     "output_type": "stream",
     "text": [
      "Numero de observaciones y variables:  (8681, 14)\n",
      "Nombres de las variables:\n",
      " ['Nacido el', 'Edad del paciente durante la toma de muestra (solo edad)', 'Tipo de examen', 'Macro - Texto largo', 'Micro - Texto largo', 'Inmunohistoquímica- Texto largo', 'Diagnóstico - Texto largo', 'Validación - Operador', 'Especialidad', 'Validación - Fecha', 'Addendum1 - Texto largo', 'Codigo Unico ', 'ID', 'origen']\n"
     ]
    }
   ],
   "source": [
    "print('Numero de observaciones y variables: ', Pathox.shape)\n",
    "print('Nombres de las variables:\\n', Pathox.columns.to_list())"
   ]
  },
  {
   "cell_type": "markdown",
   "metadata": {
    "collapsed": false
   },
   "source": [
    "- `ID`: Es un indice. Vamos a unirla con el nombre de la base para trazar el origen de cada observación.\n",
    "\n",
    "- `Codigo Unico`, `Nacido el`, `Edad del paciente durante la toma de muestra (solo edad)`, `Validación - Operador` y `Validación - Fecha` son variables útiles unicamente para la validación de la información. Vamos a darles un nombre estandar.\n",
    "\n",
    "- `Tipo de examen`: Información útil, pero no requerida en la base de entrega. Vamos a darle un nombre estandar.\n",
    "\n",
    "- `Especialidad`: Información útil, pero presente únicamente en esta base. **Por ahora propongo pegar esta información al diagnostico**\n",
    "\n",
    "- `Inmunohistoquímica- Texto largo` y `Addendum1 - Texto largo`: Información útil, pero presente unicamente en esta base. **Por ahora propongo pegar el addendum al diagnostico y la inmunohistoquimica a micro**\n",
    "\n",
    "- `Macro - Texto largo`, `Micro - Texto largo` y `Diagnóstico - Texto largo`: Información central. Vamos a darle un nombre estandar."
   ]
  },
  {
   "cell_type": "code",
   "execution_count": 22,
   "metadata": {
    "collapsed": false,
    "jupyter": {
     "outputs_hidden": false
    }
   },
   "outputs": [],
   "source": [
    "Pathox = Pathox.drop('ID',1)\n",
    "Pathox.rename(columns={'Codigo Unico ':'cod', \n",
    "                       'Validación - Operador':'val_operador',\n",
    "                       'Macro - Texto largo':'macro',\n",
    "                       'Micro - Texto largo':'micro',\n",
    "                       'Diagnóstico - Texto largo':'diagnostico',\n",
    "                       'Validación - Fecha':'val_fecha',\n",
    "                       'Nacido el':'fecha_nacimiento',\n",
    "                       'Edad del paciente durante la toma de muestra (solo edad)':'edad',\n",
    "                       'Tipo de examen':'tipo_examen',\n",
    "                       'Inmunohistoquímica- Texto largo':'inmunohistoquimica',\n",
    "                       'Addendum1 - Texto largo':'addendum'\n",
    "                       },inplace = True)"
   ]
  },
  {
   "cell_type": "code",
   "execution_count": 23,
   "metadata": {
    "collapsed": false,
    "jupyter": {
     "outputs_hidden": false
    }
   },
   "outputs": [],
   "source": [
    "Pathox.inmunohistoquimica = '\\nINMUNOHISTOQUIMICA:\\n'+Pathox.inmunohistoquimica\n",
    "Pathox.micro+= Pathox.inmunohistoquimica.fillna('')"
   ]
  },
  {
   "cell_type": "code",
   "execution_count": 24,
   "metadata": {
    "collapsed": false,
    "jupyter": {
     "outputs_hidden": false
    }
   },
   "outputs": [],
   "source": [
    "Pathox.addendum ='\\nADDENDUM:\\n' + Pathox.addendum \n",
    "Pathox.Especialidad = \"\\nESPECIALIDAD \"+ Pathox.Especialidad\n",
    "Pathox.diagnostico += Pathox.addendum.fillna('') + Pathox.Especialidad.fillna('')\n",
    "Pathox= Pathox.drop(['inmunohistoquimica','addendum','Especialidad'],1)"
   ]
  },
  {
   "cell_type": "markdown",
   "metadata": {
    "collapsed": false
   },
   "source": [
    "## Base consolidada"
   ]
  },
  {
   "cell_type": "code",
   "execution_count": 25,
   "metadata": {
    "collapsed": false,
    "jupyter": {
     "outputs_hidden": false
    }
   },
   "outputs": [],
   "source": [
    "BEntrega = pd.concat([JCB, ERP, Pathox], sort=True).reset_index(drop =True)"
   ]
  },
  {
   "cell_type": "code",
   "execution_count": 26,
   "metadata": {
    "collapsed": false,
    "jupyter": {
     "outputs_hidden": false
    }
   },
   "outputs": [
    {
     "name": "stdout",
     "output_type": "stream",
     "text": [
      "Numero de observaciones y variables:  (22322, 10)\n",
      "Nombres de las variables:\n",
      " ['cod', 'diagnostico', 'edad', 'fecha_nacimiento', 'macro', 'micro', 'origen', 'tipo_examen', 'val_fecha', 'val_operador']\n"
     ]
    }
   ],
   "source": [
    "print('Numero de observaciones y variables: ', BEntrega.shape)\n",
    "print('Nombres de las variables:\\n', BEntrega.columns.to_list())"
   ]
  },
  {
   "cell_type": "code",
   "execution_count": 27,
   "metadata": {
    "collapsed": false,
    "jupyter": {
     "outputs_hidden": false
    }
   },
   "outputs": [
    {
     "data": {
      "text/html": [
       "<div>\n",
       "<style scoped>\n",
       "    .dataframe tbody tr th:only-of-type {\n",
       "        vertical-align: middle;\n",
       "    }\n",
       "\n",
       "    .dataframe tbody tr th {\n",
       "        vertical-align: top;\n",
       "    }\n",
       "\n",
       "    .dataframe thead th {\n",
       "        text-align: right;\n",
       "    }\n",
       "</style>\n",
       "<table border=\"1\" class=\"dataframe\">\n",
       "  <thead>\n",
       "    <tr style=\"text-align: right;\">\n",
       "      <th></th>\n",
       "      <th>cod</th>\n",
       "      <th>diagnostico</th>\n",
       "      <th>edad</th>\n",
       "      <th>fecha_nacimiento</th>\n",
       "      <th>macro</th>\n",
       "      <th>micro</th>\n",
       "      <th>origen</th>\n",
       "      <th>tipo_examen</th>\n",
       "      <th>val_fecha</th>\n",
       "      <th>val_operador</th>\n",
       "    </tr>\n",
       "  </thead>\n",
       "  <tbody>\n",
       "    <tr>\n",
       "      <th>False</th>\n",
       "      <td>22322.0</td>\n",
       "      <td>22320</td>\n",
       "      <td>22285</td>\n",
       "      <td>19742</td>\n",
       "      <td>21693</td>\n",
       "      <td>18321</td>\n",
       "      <td>22322.0</td>\n",
       "      <td>22322.0</td>\n",
       "      <td>22322.0</td>\n",
       "      <td>22314</td>\n",
       "    </tr>\n",
       "    <tr>\n",
       "      <th>True</th>\n",
       "      <td>NaN</td>\n",
       "      <td>2</td>\n",
       "      <td>37</td>\n",
       "      <td>2580</td>\n",
       "      <td>629</td>\n",
       "      <td>4001</td>\n",
       "      <td>NaN</td>\n",
       "      <td>NaN</td>\n",
       "      <td>NaN</td>\n",
       "      <td>8</td>\n",
       "    </tr>\n",
       "  </tbody>\n",
       "</table>\n",
       "</div>"
      ],
      "text/plain": [
       "           cod  diagnostico   edad  fecha_nacimiento  macro  micro   origen  \\\n",
       "False  22322.0        22320  22285             19742  21693  18321  22322.0   \n",
       "True       NaN            2     37              2580    629   4001      NaN   \n",
       "\n",
       "       tipo_examen  val_fecha  val_operador  \n",
       "False      22322.0    22322.0         22314  \n",
       "True           NaN        NaN             8  "
      ]
     },
     "execution_count": 27,
     "metadata": {},
     "output_type": "execute_result"
    }
   ],
   "source": [
    "BEntrega.isna().apply(lambda x: x.value_counts())"
   ]
  },
  {
   "cell_type": "code",
   "execution_count": 28,
   "metadata": {
    "collapsed": false,
    "jupyter": {
     "outputs_hidden": false
    }
   },
   "outputs": [],
   "source": [
    "BEntrega.fillna({'micro':'', 'macro':'','diagnostico':''}, inplace = True)"
   ]
  },
  {
   "cell_type": "code",
   "execution_count": 29,
   "metadata": {
    "collapsed": false,
    "jupyter": {
     "outputs_hidden": false
    }
   },
   "outputs": [],
   "source": [
    "BEntrega.cod = BEntrega.cod.apply(str)\n",
    "BEntrega= BEntrega.astype({'cod':'string', 'diagnostico':'string', 'edad':'Int32', 'fecha_nacimiento':'datetime64', 'macro':'string',\n",
    "                'micro':'string', 'origen':'string', 'tipo_examen':'category', 'val_fecha':'datetime64', 'val_operador':'category'\n",
    "                 })\n",
    "col_order = ['cod', 'fecha_nacimiento', 'edad', 'val_fecha', 'val_operador', 'micro', 'macro','diagnostico','tipo_examen', 'origen']"
   ]
  },
  {
   "cell_type": "code",
   "execution_count": 30,
   "metadata": {
    "collapsed": false,
    "jupyter": {
     "outputs_hidden": false
    }
   },
   "outputs": [],
   "source": [
    "BEntrega = BEntrega.reindex(col_order, axis='columns')\n",
    "BEntrega.set_index('origen', inplace = True)"
   ]
  },
  {
   "cell_type": "code",
   "execution_count": 31,
   "metadata": {
    "collapsed": false,
    "jupyter": {
     "outputs_hidden": false
    }
   },
   "outputs": [],
   "source": [
    "BEntrega.to_pickle('Outputs/df_completa.p', 'gzip')"
   ]
  },
  {
   "cell_type": "markdown",
   "metadata": {
    "collapsed": false
   },
   "source": [
    "## Casos piloto"
   ]
  },
  {
   "cell_type": "code",
   "execution_count": 32,
   "metadata": {
    "collapsed": false,
    "jupyter": {
     "outputs_hidden": false
    }
   },
   "outputs": [],
   "source": [
    "piloto = pd.read_excel('Data/plantilla_casos_piloto.xlsx', header=1)"
   ]
  },
  {
   "cell_type": "code",
   "execution_count": 33,
   "metadata": {
    "collapsed": false,
    "jupyter": {
     "outputs_hidden": false
    }
   },
   "outputs": [],
   "source": [
    "BPiloto = BEntrega[BEntrega.cod.isin( piloto['Código único'].apply(str))]"
   ]
  },
  {
   "cell_type": "code",
   "execution_count": 34,
   "metadata": {
    "collapsed": false,
    "jupyter": {
     "outputs_hidden": false
    }
   },
   "outputs": [],
   "source": [
    "BPiloto.to_pickle('Outputs/df_piloto.p', 'gzip')"
   ]
  },
  {
   "cell_type": "code",
   "execution_count": 35,
   "metadata": {
    "collapsed": false,
    "jupyter": {
     "outputs_hidden": false
    }
   },
   "outputs": [
    {
     "name": "stdout",
     "output_type": "stream",
     "text": [
      "Numero de observaciones y variables:  (140, 9)\n",
      "Nombres de las variables:\n",
      " ['cod', 'fecha_nacimiento', 'edad', 'val_fecha', 'val_operador', 'micro', 'macro', 'diagnostico', 'tipo_examen']\n"
     ]
    }
   ],
   "source": [
    "print('Numero de observaciones y variables: ', BPiloto.shape)\n",
    "print('Nombres de las variables:\\n', BPiloto.columns.to_list())"
   ]
  }
 ],
 "metadata": {
  "kernelspec": {
   "argv": [
    "/home/johan/anaconda3/envs/FVL/bin/python",
    "-m",
    "ipykernel_launcher",
    "-f",
    "{connection_file}"
   ],
   "display_name": "FVL",
   "env": null,
   "interrupt_mode": "signal",
   "language": "python",
   "metadata": null,
   "name": "fvl"
  },
  "language_info": {
   "codemirror_mode": {
    "name": "ipython",
    "version": 3
   },
   "file_extension": ".py",
   "mimetype": "text/x-python",
   "name": "python",
   "nbconvert_exporter": "python",
   "pygments_lexer": "ipython3",
   "version": "3.7.7"
  },
  "name": "Lectura.ipynb"
 },
 "nbformat": 4,
 "nbformat_minor": 4
}
